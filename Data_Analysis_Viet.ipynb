{
 "cells": [
  {
   "cell_type": "code",
   "execution_count": 274,
   "metadata": {},
   "outputs": [],
   "source": [
    "import pandas as pd\n",
    "import matplotlib.pyplot as plt\n",
    "%matplotlib inline"
   ]
  },
  {
   "cell_type": "markdown",
   "metadata": {},
   "source": [
    "# Part 1"
   ]
  },
  {
   "cell_type": "code",
   "execution_count": 275,
   "metadata": {},
   "outputs": [],
   "source": [
    "businesses = pd.read_csv('yelp_academic_dataset_business.csv')\n",
    "reviews = pd.read_csv('yelp_academic_dataset_review.csv')\n",
    "users = pd.read_csv('yelp_academic_dataset_user.csv')"
   ]
  },
  {
   "cell_type": "code",
   "execution_count": 276,
   "metadata": {
    "scrolled": true
   },
   "outputs": [
    {
     "data": {
      "text/html": [
       "<div>\n",
       "<style scoped>\n",
       "    .dataframe tbody tr th:only-of-type {\n",
       "        vertical-align: middle;\n",
       "    }\n",
       "\n",
       "    .dataframe tbody tr th {\n",
       "        vertical-align: top;\n",
       "    }\n",
       "\n",
       "    .dataframe thead th {\n",
       "        text-align: right;\n",
       "    }\n",
       "</style>\n",
       "<table border=\"1\" class=\"dataframe\">\n",
       "  <thead>\n",
       "    <tr style=\"text-align: right;\">\n",
       "      <th></th>\n",
       "      <th>business_id</th>\n",
       "      <th>city</th>\n",
       "      <th>business_name</th>\n",
       "      <th>categories</th>\n",
       "      <th>review_count</th>\n",
       "      <th>average_stars</th>\n",
       "    </tr>\n",
       "  </thead>\n",
       "  <tbody>\n",
       "    <tr>\n",
       "      <th>0</th>\n",
       "      <td>Apn5Q_b6Nz61Tq4XzPdf9A</td>\n",
       "      <td>b'Calgary'</td>\n",
       "      <td>b'Minhas Micro Brewery'</td>\n",
       "      <td>Tours, Breweries, Pizza, Restaurants, Food, Ho...</td>\n",
       "      <td>24</td>\n",
       "      <td>4.0</td>\n",
       "    </tr>\n",
       "    <tr>\n",
       "      <th>1</th>\n",
       "      <td>AjEbIBw6ZFfln7ePHha9PA</td>\n",
       "      <td>b'Henderson'</td>\n",
       "      <td>b\"CK'S BBQ &amp; Catering\"</td>\n",
       "      <td>Chicken Wings, Burgers, Caterers, Street Vendo...</td>\n",
       "      <td>3</td>\n",
       "      <td>4.5</td>\n",
       "    </tr>\n",
       "    <tr>\n",
       "      <th>2</th>\n",
       "      <td>O8S5hYJ1SMc8fA4QBtVujA</td>\n",
       "      <td>b'Montral'</td>\n",
       "      <td>b'La Bastringue'</td>\n",
       "      <td>Breakfast &amp; Brunch, Restaurants, French, Sandw...</td>\n",
       "      <td>5</td>\n",
       "      <td>4.0</td>\n",
       "    </tr>\n",
       "    <tr>\n",
       "      <th>3</th>\n",
       "      <td>6OuOZAok8ikONMS_T3EzXg</td>\n",
       "      <td>b'Mississauga'</td>\n",
       "      <td>b'Thai One On'</td>\n",
       "      <td>Restaurants, Thai</td>\n",
       "      <td>7</td>\n",
       "      <td>2.0</td>\n",
       "    </tr>\n",
       "    <tr>\n",
       "      <th>4</th>\n",
       "      <td>8-NRKkPY1UiFXW20WXKiXg</td>\n",
       "      <td>b'Avondale'</td>\n",
       "      <td>b\"Filiberto's Mexican Food\"</td>\n",
       "      <td>Mexican, Restaurants</td>\n",
       "      <td>40</td>\n",
       "      <td>2.5</td>\n",
       "    </tr>\n",
       "  </tbody>\n",
       "</table>\n",
       "</div>"
      ],
      "text/plain": [
       "              business_id            city                business_name  \\\n",
       "0  Apn5Q_b6Nz61Tq4XzPdf9A      b'Calgary'      b'Minhas Micro Brewery'   \n",
       "1  AjEbIBw6ZFfln7ePHha9PA    b'Henderson'       b\"CK'S BBQ & Catering\"   \n",
       "2  O8S5hYJ1SMc8fA4QBtVujA      b'Montral'             b'La Bastringue'   \n",
       "3  6OuOZAok8ikONMS_T3EzXg  b'Mississauga'               b'Thai One On'   \n",
       "4  8-NRKkPY1UiFXW20WXKiXg     b'Avondale'  b\"Filiberto's Mexican Food\"   \n",
       "\n",
       "                                          categories  review_count  \\\n",
       "0  Tours, Breweries, Pizza, Restaurants, Food, Ho...            24   \n",
       "1  Chicken Wings, Burgers, Caterers, Street Vendo...             3   \n",
       "2  Breakfast & Brunch, Restaurants, French, Sandw...             5   \n",
       "3                                  Restaurants, Thai             7   \n",
       "4                               Mexican, Restaurants            40   \n",
       "\n",
       "   average_stars  \n",
       "0            4.0  \n",
       "1            4.5  \n",
       "2            4.0  \n",
       "3            2.0  \n",
       "4            2.5  "
      ]
     },
     "execution_count": 276,
     "metadata": {},
     "output_type": "execute_result"
    }
   ],
   "source": [
    "businesses.head()"
   ]
  },
  {
   "cell_type": "code",
   "execution_count": 277,
   "metadata": {},
   "outputs": [],
   "source": [
    "businesses['city'] = businesses['city'].apply(lambda x : x[2:len(x)-1])\n",
    "businesses['business_name'] = businesses['business_name'].apply(lambda x : x[2:len(x)-1])"
   ]
  },
  {
   "cell_type": "code",
   "execution_count": 278,
   "metadata": {},
   "outputs": [
    {
     "data": {
      "text/html": [
       "<div>\n",
       "<style scoped>\n",
       "    .dataframe tbody tr th:only-of-type {\n",
       "        vertical-align: middle;\n",
       "    }\n",
       "\n",
       "    .dataframe tbody tr th {\n",
       "        vertical-align: top;\n",
       "    }\n",
       "\n",
       "    .dataframe thead th {\n",
       "        text-align: right;\n",
       "    }\n",
       "</style>\n",
       "<table border=\"1\" class=\"dataframe\">\n",
       "  <thead>\n",
       "    <tr style=\"text-align: right;\">\n",
       "      <th></th>\n",
       "      <th>user_id</th>\n",
       "      <th>user_name</th>\n",
       "    </tr>\n",
       "  </thead>\n",
       "  <tbody>\n",
       "    <tr>\n",
       "      <th>0</th>\n",
       "      <td>lzlZwIpuSWXEnNS91wxjHw</td>\n",
       "      <td>b'Susan'</td>\n",
       "    </tr>\n",
       "    <tr>\n",
       "      <th>1</th>\n",
       "      <td>XvLBr-9smbI0m_a7dXtB7w</td>\n",
       "      <td>b'Daipayan'</td>\n",
       "    </tr>\n",
       "    <tr>\n",
       "      <th>2</th>\n",
       "      <td>QPT4Ud4H5sJVr68yXhoWFw</td>\n",
       "      <td>b'Andy'</td>\n",
       "    </tr>\n",
       "    <tr>\n",
       "      <th>3</th>\n",
       "      <td>i5YitlHZpf0B3R0s_8NVuw</td>\n",
       "      <td>b'Jonathan'</td>\n",
       "    </tr>\n",
       "    <tr>\n",
       "      <th>4</th>\n",
       "      <td>s4FoIXE_LSGviTHBe8dmcg</td>\n",
       "      <td>b'Shashank'</td>\n",
       "    </tr>\n",
       "  </tbody>\n",
       "</table>\n",
       "</div>"
      ],
      "text/plain": [
       "                  user_id    user_name\n",
       "0  lzlZwIpuSWXEnNS91wxjHw     b'Susan'\n",
       "1  XvLBr-9smbI0m_a7dXtB7w  b'Daipayan'\n",
       "2  QPT4Ud4H5sJVr68yXhoWFw      b'Andy'\n",
       "3  i5YitlHZpf0B3R0s_8NVuw  b'Jonathan'\n",
       "4  s4FoIXE_LSGviTHBe8dmcg  b'Shashank'"
      ]
     },
     "execution_count": 278,
     "metadata": {},
     "output_type": "execute_result"
    }
   ],
   "source": [
    "users.head()"
   ]
  },
  {
   "cell_type": "code",
   "execution_count": 279,
   "metadata": {},
   "outputs": [],
   "source": [
    "users['user_name'] = users['user_name'].apply(lambda x : x[2:len(x)-1])"
   ]
  },
  {
   "cell_type": "code",
   "execution_count": 280,
   "metadata": {},
   "outputs": [
    {
     "data": {
      "text/html": [
       "<div>\n",
       "<style scoped>\n",
       "    .dataframe tbody tr th:only-of-type {\n",
       "        vertical-align: middle;\n",
       "    }\n",
       "\n",
       "    .dataframe tbody tr th {\n",
       "        vertical-align: top;\n",
       "    }\n",
       "\n",
       "    .dataframe thead th {\n",
       "        text-align: right;\n",
       "    }\n",
       "</style>\n",
       "<table border=\"1\" class=\"dataframe\">\n",
       "  <thead>\n",
       "    <tr style=\"text-align: right;\">\n",
       "      <th></th>\n",
       "      <th>user_id</th>\n",
       "      <th>business_id</th>\n",
       "      <th>user_rating</th>\n",
       "    </tr>\n",
       "  </thead>\n",
       "  <tbody>\n",
       "    <tr>\n",
       "      <th>0</th>\n",
       "      <td>msQe1u7Z_XuqjGoqhB0J5g</td>\n",
       "      <td>iCQpiavjjPzJ5_3gPD5Ebg</td>\n",
       "      <td>2</td>\n",
       "    </tr>\n",
       "    <tr>\n",
       "      <th>1</th>\n",
       "      <td>msQe1u7Z_XuqjGoqhB0J5g</td>\n",
       "      <td>pomGBqfbxcqPv14c3XH-ZQ</td>\n",
       "      <td>5</td>\n",
       "    </tr>\n",
       "    <tr>\n",
       "      <th>2</th>\n",
       "      <td>msQe1u7Z_XuqjGoqhB0J5g</td>\n",
       "      <td>jtQARsP6P-LbkyjbO1qNGg</td>\n",
       "      <td>1</td>\n",
       "    </tr>\n",
       "    <tr>\n",
       "      <th>3</th>\n",
       "      <td>msQe1u7Z_XuqjGoqhB0J5g</td>\n",
       "      <td>elqbBhBfElMNSrjFqW3now</td>\n",
       "      <td>2</td>\n",
       "    </tr>\n",
       "    <tr>\n",
       "      <th>4</th>\n",
       "      <td>msQe1u7Z_XuqjGoqhB0J5g</td>\n",
       "      <td>Ums3gaP2qM3W1XcA5r6SsQ</td>\n",
       "      <td>5</td>\n",
       "    </tr>\n",
       "  </tbody>\n",
       "</table>\n",
       "</div>"
      ],
      "text/plain": [
       "                  user_id             business_id  user_rating\n",
       "0  msQe1u7Z_XuqjGoqhB0J5g  iCQpiavjjPzJ5_3gPD5Ebg            2\n",
       "1  msQe1u7Z_XuqjGoqhB0J5g  pomGBqfbxcqPv14c3XH-ZQ            5\n",
       "2  msQe1u7Z_XuqjGoqhB0J5g  jtQARsP6P-LbkyjbO1qNGg            1\n",
       "3  msQe1u7Z_XuqjGoqhB0J5g  elqbBhBfElMNSrjFqW3now            2\n",
       "4  msQe1u7Z_XuqjGoqhB0J5g  Ums3gaP2qM3W1XcA5r6SsQ            5"
      ]
     },
     "execution_count": 280,
     "metadata": {},
     "output_type": "execute_result"
    }
   ],
   "source": [
    "reviews.head()"
   ]
  },
  {
   "cell_type": "code",
   "execution_count": 281,
   "metadata": {},
   "outputs": [],
   "source": [
    "df = reviews.merge(users, on = \"user_id\", how = 'inner')\n",
    "table = df.merge(businesses, on = \"business_id\", how = \"inner\")"
   ]
  },
  {
   "cell_type": "code",
   "execution_count": 282,
   "metadata": {},
   "outputs": [
    {
     "data": {
      "text/html": [
       "<div>\n",
       "<style scoped>\n",
       "    .dataframe tbody tr th:only-of-type {\n",
       "        vertical-align: middle;\n",
       "    }\n",
       "\n",
       "    .dataframe tbody tr th {\n",
       "        vertical-align: top;\n",
       "    }\n",
       "\n",
       "    .dataframe thead th {\n",
       "        text-align: right;\n",
       "    }\n",
       "</style>\n",
       "<table border=\"1\" class=\"dataframe\">\n",
       "  <thead>\n",
       "    <tr style=\"text-align: right;\">\n",
       "      <th></th>\n",
       "      <th>user_id</th>\n",
       "      <th>business_id</th>\n",
       "      <th>user_rating</th>\n",
       "      <th>user_name</th>\n",
       "      <th>city</th>\n",
       "      <th>business_name</th>\n",
       "      <th>categories</th>\n",
       "      <th>review_count</th>\n",
       "      <th>average_stars</th>\n",
       "    </tr>\n",
       "  </thead>\n",
       "  <tbody>\n",
       "    <tr>\n",
       "      <th>0</th>\n",
       "      <td>msQe1u7Z_XuqjGoqhB0J5g</td>\n",
       "      <td>iCQpiavjjPzJ5_3gPD5Ebg</td>\n",
       "      <td>2</td>\n",
       "      <td>Melissa</td>\n",
       "      <td>Las Vegas</td>\n",
       "      <td>Secret Pizza</td>\n",
       "      <td>Pizza, Restaurants</td>\n",
       "      <td>4078</td>\n",
       "      <td>4.0</td>\n",
       "    </tr>\n",
       "    <tr>\n",
       "      <th>1</th>\n",
       "      <td>D1_nrBr4dOrs7M82OaBRwQ</td>\n",
       "      <td>iCQpiavjjPzJ5_3gPD5Ebg</td>\n",
       "      <td>3</td>\n",
       "      <td>Raed</td>\n",
       "      <td>Las Vegas</td>\n",
       "      <td>Secret Pizza</td>\n",
       "      <td>Pizza, Restaurants</td>\n",
       "      <td>4078</td>\n",
       "      <td>4.0</td>\n",
       "    </tr>\n",
       "    <tr>\n",
       "      <th>2</th>\n",
       "      <td>jEjc8HxeCeI22M4di0Y1aw</td>\n",
       "      <td>iCQpiavjjPzJ5_3gPD5Ebg</td>\n",
       "      <td>5</td>\n",
       "      <td>Cheryl</td>\n",
       "      <td>Las Vegas</td>\n",
       "      <td>Secret Pizza</td>\n",
       "      <td>Pizza, Restaurants</td>\n",
       "      <td>4078</td>\n",
       "      <td>4.0</td>\n",
       "    </tr>\n",
       "    <tr>\n",
       "      <th>3</th>\n",
       "      <td>RTiaaHSN80VRTLSdNK5rfQ</td>\n",
       "      <td>iCQpiavjjPzJ5_3gPD5Ebg</td>\n",
       "      <td>5</td>\n",
       "      <td>Allyssa</td>\n",
       "      <td>Las Vegas</td>\n",
       "      <td>Secret Pizza</td>\n",
       "      <td>Pizza, Restaurants</td>\n",
       "      <td>4078</td>\n",
       "      <td>4.0</td>\n",
       "    </tr>\n",
       "    <tr>\n",
       "      <th>4</th>\n",
       "      <td>hBmJs49zYcXdV4wo8F5iiA</td>\n",
       "      <td>iCQpiavjjPzJ5_3gPD5Ebg</td>\n",
       "      <td>5</td>\n",
       "      <td>Sarah</td>\n",
       "      <td>Las Vegas</td>\n",
       "      <td>Secret Pizza</td>\n",
       "      <td>Pizza, Restaurants</td>\n",
       "      <td>4078</td>\n",
       "      <td>4.0</td>\n",
       "    </tr>\n",
       "  </tbody>\n",
       "</table>\n",
       "</div>"
      ],
      "text/plain": [
       "                  user_id             business_id  user_rating user_name  \\\n",
       "0  msQe1u7Z_XuqjGoqhB0J5g  iCQpiavjjPzJ5_3gPD5Ebg            2   Melissa   \n",
       "1  D1_nrBr4dOrs7M82OaBRwQ  iCQpiavjjPzJ5_3gPD5Ebg            3      Raed   \n",
       "2  jEjc8HxeCeI22M4di0Y1aw  iCQpiavjjPzJ5_3gPD5Ebg            5    Cheryl   \n",
       "3  RTiaaHSN80VRTLSdNK5rfQ  iCQpiavjjPzJ5_3gPD5Ebg            5   Allyssa   \n",
       "4  hBmJs49zYcXdV4wo8F5iiA  iCQpiavjjPzJ5_3gPD5Ebg            5     Sarah   \n",
       "\n",
       "        city business_name          categories  review_count  average_stars  \n",
       "0  Las Vegas  Secret Pizza  Pizza, Restaurants          4078            4.0  \n",
       "1  Las Vegas  Secret Pizza  Pizza, Restaurants          4078            4.0  \n",
       "2  Las Vegas  Secret Pizza  Pizza, Restaurants          4078            4.0  \n",
       "3  Las Vegas  Secret Pizza  Pizza, Restaurants          4078            4.0  \n",
       "4  Las Vegas  Secret Pizza  Pizza, Restaurants          4078            4.0  "
      ]
     },
     "execution_count": 282,
     "metadata": {},
     "output_type": "execute_result"
    }
   ],
   "source": [
    "table.head()"
   ]
  },
  {
   "cell_type": "code",
   "execution_count": 283,
   "metadata": {},
   "outputs": [],
   "source": [
    "viet_restaurant = table[table['categories'].str.contains('Vietnamese')]"
   ]
  },
  {
   "cell_type": "code",
   "execution_count": 284,
   "metadata": {},
   "outputs": [],
   "source": [
    "num_reviews_viet = viet_restaurant[['user_id', 'user_name', 'business_name']].groupby('user_id').size().reset_index(name='num_reviews_viet')"
   ]
  },
  {
   "cell_type": "code",
   "execution_count": 285,
   "metadata": {},
   "outputs": [
    {
     "data": {
      "text/html": [
       "<div>\n",
       "<style scoped>\n",
       "    .dataframe tbody tr th:only-of-type {\n",
       "        vertical-align: middle;\n",
       "    }\n",
       "\n",
       "    .dataframe tbody tr th {\n",
       "        vertical-align: top;\n",
       "    }\n",
       "\n",
       "    .dataframe thead th {\n",
       "        text-align: right;\n",
       "    }\n",
       "</style>\n",
       "<table border=\"1\" class=\"dataframe\">\n",
       "  <thead>\n",
       "    <tr style=\"text-align: right;\">\n",
       "      <th></th>\n",
       "      <th>user_id</th>\n",
       "      <th>num_reviews_viet</th>\n",
       "    </tr>\n",
       "  </thead>\n",
       "  <tbody>\n",
       "    <tr>\n",
       "      <th>0</th>\n",
       "      <td>--B08Ekk4Y_4KFuF9MWdtw</td>\n",
       "      <td>1</td>\n",
       "    </tr>\n",
       "    <tr>\n",
       "      <th>1</th>\n",
       "      <td>--BumyUHiO_7YsHurb9Hkw</td>\n",
       "      <td>1</td>\n",
       "    </tr>\n",
       "    <tr>\n",
       "      <th>2</th>\n",
       "      <td>--C93xIlmjtgQfSOIpcQSA</td>\n",
       "      <td>1</td>\n",
       "    </tr>\n",
       "    <tr>\n",
       "      <th>3</th>\n",
       "      <td>--DxiDMQgN08E5gTM0aj7Q</td>\n",
       "      <td>1</td>\n",
       "    </tr>\n",
       "    <tr>\n",
       "      <th>4</th>\n",
       "      <td>--Nnm_506G_p8MxAOQna5w</td>\n",
       "      <td>2</td>\n",
       "    </tr>\n",
       "  </tbody>\n",
       "</table>\n",
       "</div>"
      ],
      "text/plain": [
       "                  user_id  num_reviews_viet\n",
       "0  --B08Ekk4Y_4KFuF9MWdtw                 1\n",
       "1  --BumyUHiO_7YsHurb9Hkw                 1\n",
       "2  --C93xIlmjtgQfSOIpcQSA                 1\n",
       "3  --DxiDMQgN08E5gTM0aj7Q                 1\n",
       "4  --Nnm_506G_p8MxAOQna5w                 2"
      ]
     },
     "execution_count": 285,
     "metadata": {},
     "output_type": "execute_result"
    }
   ],
   "source": [
    "num_reviews_viet.head()"
   ]
  },
  {
   "cell_type": "code",
   "execution_count": 286,
   "metadata": {
    "scrolled": true
   },
   "outputs": [],
   "source": [
    "user_to_restaurant = viet_restaurant.merge(num_reviews_viet, on = \"user_id\", how = \"inner\")"
   ]
  },
  {
   "cell_type": "code",
   "execution_count": 287,
   "metadata": {},
   "outputs": [],
   "source": [
    "user_to_restaurant['weighted_rating'] = user_to_restaurant['user_rating'] * user_to_restaurant['num_reviews_viet']"
   ]
  },
  {
   "cell_type": "code",
   "execution_count": 288,
   "metadata": {
    "scrolled": true
   },
   "outputs": [
    {
     "data": {
      "text/html": [
       "<div>\n",
       "<style scoped>\n",
       "    .dataframe tbody tr th:only-of-type {\n",
       "        vertical-align: middle;\n",
       "    }\n",
       "\n",
       "    .dataframe tbody tr th {\n",
       "        vertical-align: top;\n",
       "    }\n",
       "\n",
       "    .dataframe thead th {\n",
       "        text-align: right;\n",
       "    }\n",
       "</style>\n",
       "<table border=\"1\" class=\"dataframe\">\n",
       "  <thead>\n",
       "    <tr style=\"text-align: right;\">\n",
       "      <th></th>\n",
       "      <th>user_id</th>\n",
       "      <th>business_id</th>\n",
       "      <th>user_rating</th>\n",
       "      <th>user_name</th>\n",
       "      <th>city</th>\n",
       "      <th>business_name</th>\n",
       "      <th>categories</th>\n",
       "      <th>review_count</th>\n",
       "      <th>average_stars</th>\n",
       "      <th>num_reviews_viet</th>\n",
       "      <th>weighted_rating</th>\n",
       "    </tr>\n",
       "  </thead>\n",
       "  <tbody>\n",
       "    <tr>\n",
       "      <th>0</th>\n",
       "      <td>0pf5VuzE4_1pwj5NJHG5TQ</td>\n",
       "      <td>Jj8ubiwwuCR-rrhrrjcryw</td>\n",
       "      <td>2</td>\n",
       "      <td>G</td>\n",
       "      <td>Phoenix</td>\n",
       "      <td>Da Vang Restaurant</td>\n",
       "      <td>Vietnamese, Restaurants</td>\n",
       "      <td>597</td>\n",
       "      <td>4.0</td>\n",
       "      <td>1</td>\n",
       "      <td>2</td>\n",
       "    </tr>\n",
       "    <tr>\n",
       "      <th>1</th>\n",
       "      <td>2Ux6jUsYoWA_A3fc5XpLVw</td>\n",
       "      <td>Jj8ubiwwuCR-rrhrrjcryw</td>\n",
       "      <td>1</td>\n",
       "      <td>Tim</td>\n",
       "      <td>Phoenix</td>\n",
       "      <td>Da Vang Restaurant</td>\n",
       "      <td>Vietnamese, Restaurants</td>\n",
       "      <td>597</td>\n",
       "      <td>4.0</td>\n",
       "      <td>1</td>\n",
       "      <td>1</td>\n",
       "    </tr>\n",
       "    <tr>\n",
       "      <th>2</th>\n",
       "      <td>EYcSFRF0sNaELv0o0S63Aw</td>\n",
       "      <td>Jj8ubiwwuCR-rrhrrjcryw</td>\n",
       "      <td>1</td>\n",
       "      <td>Que</td>\n",
       "      <td>Phoenix</td>\n",
       "      <td>Da Vang Restaurant</td>\n",
       "      <td>Vietnamese, Restaurants</td>\n",
       "      <td>597</td>\n",
       "      <td>4.0</td>\n",
       "      <td>1</td>\n",
       "      <td>1</td>\n",
       "    </tr>\n",
       "    <tr>\n",
       "      <th>3</th>\n",
       "      <td>lBzCbSf9ekDP4iao-5Sb0Q</td>\n",
       "      <td>Jj8ubiwwuCR-rrhrrjcryw</td>\n",
       "      <td>3</td>\n",
       "      <td>Jasmine</td>\n",
       "      <td>Phoenix</td>\n",
       "      <td>Da Vang Restaurant</td>\n",
       "      <td>Vietnamese, Restaurants</td>\n",
       "      <td>597</td>\n",
       "      <td>4.0</td>\n",
       "      <td>2</td>\n",
       "      <td>6</td>\n",
       "    </tr>\n",
       "    <tr>\n",
       "      <th>4</th>\n",
       "      <td>lBzCbSf9ekDP4iao-5Sb0Q</td>\n",
       "      <td>gQMAcDm8kv8ev7x2BshMwg</td>\n",
       "      <td>5</td>\n",
       "      <td>Jasmine</td>\n",
       "      <td>Phoenix</td>\n",
       "      <td>Pho Thanh</td>\n",
       "      <td>Restaurants, Vietnamese, Soup</td>\n",
       "      <td>740</td>\n",
       "      <td>4.0</td>\n",
       "      <td>2</td>\n",
       "      <td>10</td>\n",
       "    </tr>\n",
       "  </tbody>\n",
       "</table>\n",
       "</div>"
      ],
      "text/plain": [
       "                  user_id             business_id  user_rating user_name  \\\n",
       "0  0pf5VuzE4_1pwj5NJHG5TQ  Jj8ubiwwuCR-rrhrrjcryw            2         G   \n",
       "1  2Ux6jUsYoWA_A3fc5XpLVw  Jj8ubiwwuCR-rrhrrjcryw            1       Tim   \n",
       "2  EYcSFRF0sNaELv0o0S63Aw  Jj8ubiwwuCR-rrhrrjcryw            1       Que   \n",
       "3  lBzCbSf9ekDP4iao-5Sb0Q  Jj8ubiwwuCR-rrhrrjcryw            3   Jasmine   \n",
       "4  lBzCbSf9ekDP4iao-5Sb0Q  gQMAcDm8kv8ev7x2BshMwg            5   Jasmine   \n",
       "\n",
       "      city       business_name                     categories  review_count  \\\n",
       "0  Phoenix  Da Vang Restaurant        Vietnamese, Restaurants           597   \n",
       "1  Phoenix  Da Vang Restaurant        Vietnamese, Restaurants           597   \n",
       "2  Phoenix  Da Vang Restaurant        Vietnamese, Restaurants           597   \n",
       "3  Phoenix  Da Vang Restaurant        Vietnamese, Restaurants           597   \n",
       "4  Phoenix           Pho Thanh  Restaurants, Vietnamese, Soup           740   \n",
       "\n",
       "   average_stars  num_reviews_viet  weighted_rating  \n",
       "0            4.0                 1                2  \n",
       "1            4.0                 1                1  \n",
       "2            4.0                 1                1  \n",
       "3            4.0                 2                6  \n",
       "4            4.0                 2               10  "
      ]
     },
     "execution_count": 288,
     "metadata": {},
     "output_type": "execute_result"
    }
   ],
   "source": [
    "user_to_restaurant.head()"
   ]
  },
  {
   "cell_type": "code",
   "execution_count": 289,
   "metadata": {},
   "outputs": [],
   "source": [
    "sum_of = user_to_restaurant.groupby(['business_name', 'city', 'average_stars']).sum()\n",
    "new_stars = (sum_of['weighted_rating'] / sum_of['num_reviews_viet']).reset_index(name='weighted_stars')"
   ]
  },
  {
   "cell_type": "code",
   "execution_count": 290,
   "metadata": {},
   "outputs": [],
   "source": [
    "business_report = businesses.merge(report, on = 'business_id', how = 'inner')"
   ]
  },
  {
   "cell_type": "code",
   "execution_count": 291,
   "metadata": {},
   "outputs": [
    {
     "data": {
      "text/html": [
       "<div>\n",
       "<style scoped>\n",
       "    .dataframe tbody tr th:only-of-type {\n",
       "        vertical-align: middle;\n",
       "    }\n",
       "\n",
       "    .dataframe tbody tr th {\n",
       "        vertical-align: top;\n",
       "    }\n",
       "\n",
       "    .dataframe thead th {\n",
       "        text-align: right;\n",
       "    }\n",
       "</style>\n",
       "<table border=\"1\" class=\"dataframe\">\n",
       "  <thead>\n",
       "    <tr style=\"text-align: right;\">\n",
       "      <th></th>\n",
       "      <th>business_id</th>\n",
       "      <th>city</th>\n",
       "      <th>business_name</th>\n",
       "      <th>categories</th>\n",
       "      <th>review_count</th>\n",
       "      <th>average_stars</th>\n",
       "      <th>weighted_stars</th>\n",
       "    </tr>\n",
       "  </thead>\n",
       "  <tbody>\n",
       "    <tr>\n",
       "      <th>0</th>\n",
       "      <td>KoKFVOm09q5LHkHNwFIjIQ</td>\n",
       "      <td>Montral</td>\n",
       "      <td>Pho 198</td>\n",
       "      <td>Restaurants, Vietnamese</td>\n",
       "      <td>3</td>\n",
       "      <td>4.0</td>\n",
       "      <td>3.214286</td>\n",
       "    </tr>\n",
       "    <tr>\n",
       "      <th>1</th>\n",
       "      <td>YSBOJuLA70d6s1fAWBjbAA</td>\n",
       "      <td>Toronto</td>\n",
       "      <td>Galaxy T&amp;T</td>\n",
       "      <td>Specialty Food, Sandwiches, Juice Bars &amp; Smoot...</td>\n",
       "      <td>5</td>\n",
       "      <td>5.0</td>\n",
       "      <td>5.000000</td>\n",
       "    </tr>\n",
       "    <tr>\n",
       "      <th>2</th>\n",
       "      <td>4SQvBWjDh_eUx_10M-eigA</td>\n",
       "      <td>Toronto</td>\n",
       "      <td>Lan Restaurant</td>\n",
       "      <td>Restaurants, Vietnamese</td>\n",
       "      <td>34</td>\n",
       "      <td>3.5</td>\n",
       "      <td>3.188889</td>\n",
       "    </tr>\n",
       "    <tr>\n",
       "      <th>3</th>\n",
       "      <td>_xavJB9Uia1CsPDlGFw5Qg</td>\n",
       "      <td>Markham</td>\n",
       "      <td>Xe Lua Restaurant</td>\n",
       "      <td>Restaurants, Vietnamese</td>\n",
       "      <td>13</td>\n",
       "      <td>1.5</td>\n",
       "      <td>1.235808</td>\n",
       "    </tr>\n",
       "    <tr>\n",
       "      <th>4</th>\n",
       "      <td>42-UJ-c_97IeqUc6BWjmnA</td>\n",
       "      <td>Toronto</td>\n",
       "      <td>Pho 88</td>\n",
       "      <td>Restaurants, Thai, Vietnamese</td>\n",
       "      <td>66</td>\n",
       "      <td>2.5</td>\n",
       "      <td>2.807512</td>\n",
       "    </tr>\n",
       "  </tbody>\n",
       "</table>\n",
       "</div>"
      ],
      "text/plain": [
       "              business_id     city      business_name  \\\n",
       "0  KoKFVOm09q5LHkHNwFIjIQ  Montral            Pho 198   \n",
       "1  YSBOJuLA70d6s1fAWBjbAA  Toronto         Galaxy T&T   \n",
       "2  4SQvBWjDh_eUx_10M-eigA  Toronto     Lan Restaurant   \n",
       "3  _xavJB9Uia1CsPDlGFw5Qg  Markham  Xe Lua Restaurant   \n",
       "4  42-UJ-c_97IeqUc6BWjmnA  Toronto             Pho 88   \n",
       "\n",
       "                                          categories  review_count  \\\n",
       "0                            Restaurants, Vietnamese             3   \n",
       "1  Specialty Food, Sandwiches, Juice Bars & Smoot...             5   \n",
       "2                            Restaurants, Vietnamese            34   \n",
       "3                            Restaurants, Vietnamese            13   \n",
       "4                      Restaurants, Thai, Vietnamese            66   \n",
       "\n",
       "   average_stars  weighted_stars  \n",
       "0            4.0        3.214286  \n",
       "1            5.0        5.000000  \n",
       "2            3.5        3.188889  \n",
       "3            1.5        1.235808  \n",
       "4            2.5        2.807512  "
      ]
     },
     "execution_count": 291,
     "metadata": {},
     "output_type": "execute_result"
    }
   ],
   "source": [
    "business_report.head()"
   ]
  },
  {
   "cell_type": "markdown",
   "metadata": {},
   "source": [
    "# Part 2"
   ]
  },
  {
   "cell_type": "code",
   "execution_count": 292,
   "metadata": {},
   "outputs": [],
   "source": [
    "viet_names = pd.read_csv('viet_names.txt')"
   ]
  },
  {
   "cell_type": "code",
   "execution_count": 293,
   "metadata": {},
   "outputs": [
    {
     "data": {
      "text/html": [
       "<div>\n",
       "<style scoped>\n",
       "    .dataframe tbody tr th:only-of-type {\n",
       "        vertical-align: middle;\n",
       "    }\n",
       "\n",
       "    .dataframe tbody tr th {\n",
       "        vertical-align: top;\n",
       "    }\n",
       "\n",
       "    .dataframe thead th {\n",
       "        text-align: right;\n",
       "    }\n",
       "</style>\n",
       "<table border=\"1\" class=\"dataframe\">\n",
       "  <thead>\n",
       "    <tr style=\"text-align: right;\">\n",
       "      <th></th>\n",
       "      <th>user_id</th>\n",
       "      <th>business_id</th>\n",
       "      <th>user_rating</th>\n",
       "      <th>user_name</th>\n",
       "      <th>city</th>\n",
       "      <th>business_name</th>\n",
       "      <th>categories</th>\n",
       "      <th>review_count</th>\n",
       "      <th>average_stars</th>\n",
       "      <th>num_reviews_viet</th>\n",
       "      <th>weighted_rating</th>\n",
       "    </tr>\n",
       "  </thead>\n",
       "  <tbody>\n",
       "    <tr>\n",
       "      <th>0</th>\n",
       "      <td>0pf5VuzE4_1pwj5NJHG5TQ</td>\n",
       "      <td>Jj8ubiwwuCR-rrhrrjcryw</td>\n",
       "      <td>2</td>\n",
       "      <td>G</td>\n",
       "      <td>Phoenix</td>\n",
       "      <td>Da Vang Restaurant</td>\n",
       "      <td>Vietnamese, Restaurants</td>\n",
       "      <td>597</td>\n",
       "      <td>4.0</td>\n",
       "      <td>1</td>\n",
       "      <td>2</td>\n",
       "    </tr>\n",
       "    <tr>\n",
       "      <th>1</th>\n",
       "      <td>2Ux6jUsYoWA_A3fc5XpLVw</td>\n",
       "      <td>Jj8ubiwwuCR-rrhrrjcryw</td>\n",
       "      <td>1</td>\n",
       "      <td>Tim</td>\n",
       "      <td>Phoenix</td>\n",
       "      <td>Da Vang Restaurant</td>\n",
       "      <td>Vietnamese, Restaurants</td>\n",
       "      <td>597</td>\n",
       "      <td>4.0</td>\n",
       "      <td>1</td>\n",
       "      <td>1</td>\n",
       "    </tr>\n",
       "    <tr>\n",
       "      <th>2</th>\n",
       "      <td>EYcSFRF0sNaELv0o0S63Aw</td>\n",
       "      <td>Jj8ubiwwuCR-rrhrrjcryw</td>\n",
       "      <td>1</td>\n",
       "      <td>Que</td>\n",
       "      <td>Phoenix</td>\n",
       "      <td>Da Vang Restaurant</td>\n",
       "      <td>Vietnamese, Restaurants</td>\n",
       "      <td>597</td>\n",
       "      <td>4.0</td>\n",
       "      <td>1</td>\n",
       "      <td>1</td>\n",
       "    </tr>\n",
       "    <tr>\n",
       "      <th>3</th>\n",
       "      <td>lBzCbSf9ekDP4iao-5Sb0Q</td>\n",
       "      <td>Jj8ubiwwuCR-rrhrrjcryw</td>\n",
       "      <td>3</td>\n",
       "      <td>Jasmine</td>\n",
       "      <td>Phoenix</td>\n",
       "      <td>Da Vang Restaurant</td>\n",
       "      <td>Vietnamese, Restaurants</td>\n",
       "      <td>597</td>\n",
       "      <td>4.0</td>\n",
       "      <td>2</td>\n",
       "      <td>6</td>\n",
       "    </tr>\n",
       "    <tr>\n",
       "      <th>4</th>\n",
       "      <td>lBzCbSf9ekDP4iao-5Sb0Q</td>\n",
       "      <td>gQMAcDm8kv8ev7x2BshMwg</td>\n",
       "      <td>5</td>\n",
       "      <td>Jasmine</td>\n",
       "      <td>Phoenix</td>\n",
       "      <td>Pho Thanh</td>\n",
       "      <td>Restaurants, Vietnamese, Soup</td>\n",
       "      <td>740</td>\n",
       "      <td>4.0</td>\n",
       "      <td>2</td>\n",
       "      <td>10</td>\n",
       "    </tr>\n",
       "  </tbody>\n",
       "</table>\n",
       "</div>"
      ],
      "text/plain": [
       "                  user_id             business_id  user_rating user_name  \\\n",
       "0  0pf5VuzE4_1pwj5NJHG5TQ  Jj8ubiwwuCR-rrhrrjcryw            2         G   \n",
       "1  2Ux6jUsYoWA_A3fc5XpLVw  Jj8ubiwwuCR-rrhrrjcryw            1       Tim   \n",
       "2  EYcSFRF0sNaELv0o0S63Aw  Jj8ubiwwuCR-rrhrrjcryw            1       Que   \n",
       "3  lBzCbSf9ekDP4iao-5Sb0Q  Jj8ubiwwuCR-rrhrrjcryw            3   Jasmine   \n",
       "4  lBzCbSf9ekDP4iao-5Sb0Q  gQMAcDm8kv8ev7x2BshMwg            5   Jasmine   \n",
       "\n",
       "      city       business_name                     categories  review_count  \\\n",
       "0  Phoenix  Da Vang Restaurant        Vietnamese, Restaurants           597   \n",
       "1  Phoenix  Da Vang Restaurant        Vietnamese, Restaurants           597   \n",
       "2  Phoenix  Da Vang Restaurant        Vietnamese, Restaurants           597   \n",
       "3  Phoenix  Da Vang Restaurant        Vietnamese, Restaurants           597   \n",
       "4  Phoenix           Pho Thanh  Restaurants, Vietnamese, Soup           740   \n",
       "\n",
       "   average_stars  num_reviews_viet  weighted_rating  \n",
       "0            4.0                 1                2  \n",
       "1            4.0                 1                1  \n",
       "2            4.0                 1                1  \n",
       "3            4.0                 2                6  \n",
       "4            4.0                 2               10  "
      ]
     },
     "execution_count": 293,
     "metadata": {},
     "output_type": "execute_result"
    }
   ],
   "source": [
    "user_to_restaurant.head()"
   ]
  },
  {
   "cell_type": "code",
   "execution_count": 294,
   "metadata": {},
   "outputs": [],
   "source": [
    "user_to_restaurant['reviewer_viet_name'] = user_to_restaurant['user_name'].apply(lambda x : viet_names.name.str.contains(x.lower().capitalize()).any())"
   ]
  },
  {
   "cell_type": "code",
   "execution_count": 295,
   "metadata": {},
   "outputs": [],
   "source": [
    "user_to_restaurant['weighted_rating_2'] = user_to_restaurant['reviewer_viet_name'] * user_to_restaurant['user_rating']"
   ]
  },
  {
   "cell_type": "code",
   "execution_count": 296,
   "metadata": {},
   "outputs": [],
   "source": [
    "sum_of2 = user_to_restaurant[user_to_restaurant.reviewer_viet_name == True].groupby(['business_name', 'city', 'average_stars']).sum()\n",
    "new_stars2 = (sum_of2['weighted_rating_2'] / sum_of2['reviewer_viet_name']).reset_index(name='weighted_stars_2')"
   ]
  },
  {
   "cell_type": "code",
   "execution_count": 297,
   "metadata": {},
   "outputs": [],
   "source": [
    "business_report = business_report.merge(new_stars2, on = ['business_name', 'city', 'average_stars'], how = 'inner')"
   ]
  },
  {
   "cell_type": "code",
   "execution_count": 298,
   "metadata": {},
   "outputs": [
    {
     "data": {
      "text/html": [
       "<div>\n",
       "<style scoped>\n",
       "    .dataframe tbody tr th:only-of-type {\n",
       "        vertical-align: middle;\n",
       "    }\n",
       "\n",
       "    .dataframe tbody tr th {\n",
       "        vertical-align: top;\n",
       "    }\n",
       "\n",
       "    .dataframe thead th {\n",
       "        text-align: right;\n",
       "    }\n",
       "</style>\n",
       "<table border=\"1\" class=\"dataframe\">\n",
       "  <thead>\n",
       "    <tr style=\"text-align: right;\">\n",
       "      <th></th>\n",
       "      <th>business_id</th>\n",
       "      <th>city</th>\n",
       "      <th>business_name</th>\n",
       "      <th>categories</th>\n",
       "      <th>review_count</th>\n",
       "      <th>average_stars</th>\n",
       "      <th>weighted_stars</th>\n",
       "      <th>weighted_stars_2</th>\n",
       "    </tr>\n",
       "  </thead>\n",
       "  <tbody>\n",
       "    <tr>\n",
       "      <th>0</th>\n",
       "      <td>4SQvBWjDh_eUx_10M-eigA</td>\n",
       "      <td>Toronto</td>\n",
       "      <td>Lan Restaurant</td>\n",
       "      <td>Restaurants, Vietnamese</td>\n",
       "      <td>34</td>\n",
       "      <td>3.5</td>\n",
       "      <td>3.188889</td>\n",
       "      <td>4.333333</td>\n",
       "    </tr>\n",
       "    <tr>\n",
       "      <th>1</th>\n",
       "      <td>_xavJB9Uia1CsPDlGFw5Qg</td>\n",
       "      <td>Markham</td>\n",
       "      <td>Xe Lua Restaurant</td>\n",
       "      <td>Restaurants, Vietnamese</td>\n",
       "      <td>13</td>\n",
       "      <td>1.5</td>\n",
       "      <td>1.235808</td>\n",
       "      <td>2.000000</td>\n",
       "    </tr>\n",
       "    <tr>\n",
       "      <th>2</th>\n",
       "      <td>42-UJ-c_97IeqUc6BWjmnA</td>\n",
       "      <td>Toronto</td>\n",
       "      <td>Pho 88</td>\n",
       "      <td>Restaurants, Thai, Vietnamese</td>\n",
       "      <td>66</td>\n",
       "      <td>2.5</td>\n",
       "      <td>2.807512</td>\n",
       "      <td>2.250000</td>\n",
       "    </tr>\n",
       "    <tr>\n",
       "      <th>3</th>\n",
       "      <td>qrr5PjTljEn_94tL83ETag</td>\n",
       "      <td>Scarborough</td>\n",
       "      <td>Lac Vien Vietnamese Restaurant</td>\n",
       "      <td>Vietnamese, Restaurants</td>\n",
       "      <td>68</td>\n",
       "      <td>3.0</td>\n",
       "      <td>3.202811</td>\n",
       "      <td>2.727273</td>\n",
       "    </tr>\n",
       "    <tr>\n",
       "      <th>4</th>\n",
       "      <td>oICXzFAaUMrYGzjRWmkw4Q</td>\n",
       "      <td>Toronto</td>\n",
       "      <td>Anh Dao</td>\n",
       "      <td>Asian Fusion, Vietnamese, Restaurants</td>\n",
       "      <td>85</td>\n",
       "      <td>3.5</td>\n",
       "      <td>3.447504</td>\n",
       "      <td>3.692308</td>\n",
       "    </tr>\n",
       "  </tbody>\n",
       "</table>\n",
       "</div>"
      ],
      "text/plain": [
       "              business_id         city                   business_name  \\\n",
       "0  4SQvBWjDh_eUx_10M-eigA      Toronto                  Lan Restaurant   \n",
       "1  _xavJB9Uia1CsPDlGFw5Qg      Markham               Xe Lua Restaurant   \n",
       "2  42-UJ-c_97IeqUc6BWjmnA      Toronto                          Pho 88   \n",
       "3  qrr5PjTljEn_94tL83ETag  Scarborough  Lac Vien Vietnamese Restaurant   \n",
       "4  oICXzFAaUMrYGzjRWmkw4Q      Toronto                         Anh Dao   \n",
       "\n",
       "                              categories  review_count  average_stars  \\\n",
       "0                Restaurants, Vietnamese            34            3.5   \n",
       "1                Restaurants, Vietnamese            13            1.5   \n",
       "2          Restaurants, Thai, Vietnamese            66            2.5   \n",
       "3                Vietnamese, Restaurants            68            3.0   \n",
       "4  Asian Fusion, Vietnamese, Restaurants            85            3.5   \n",
       "\n",
       "   weighted_stars  weighted_stars_2  \n",
       "0        3.188889          4.333333  \n",
       "1        1.235808          2.000000  \n",
       "2        2.807512          2.250000  \n",
       "3        3.202811          2.727273  \n",
       "4        3.447504          3.692308  "
      ]
     },
     "execution_count": 298,
     "metadata": {},
     "output_type": "execute_result"
    }
   ],
   "source": [
    "business_report.head()"
   ]
  },
  {
   "cell_type": "markdown",
   "metadata": {},
   "source": [
    "# Part 3"
   ]
  },
  {
   "cell_type": "code",
   "execution_count": 299,
   "metadata": {},
   "outputs": [
    {
     "data": {
      "text/plain": [
       "array(['Toronto', 'Markham', 'Scarborough', 'Mississauga', 'Montral',\n",
       "       'Calgary', 'Phoenix', 'Cleveland', 'Charlotte', 'Goodyear',\n",
       "       'Richmond Hill', 'Pittsburgh', 'Vaughan', 'Las  Vegas', 'Monona',\n",
       "       'Cave Creek', 'Mesa', 'Scottsdale', 'Madison', 'Las Vegas',\n",
       "       'Parma', 'Chandler', 'MESA', 'Newmarket', 'Aurora', 'North York',\n",
       "       'Painesville', 'Henderson', 'Urbana', 'Midnapore', 'Oakville',\n",
       "       'Lyndhurst', 'Saint-Laurent', 'Matthews', 'Monroe',\n",
       "       'Dollard-des Ormeaux', 'North Las Vegas', 'Peoria', 'Tempe',\n",
       "       'Etobicoke', 'Brossard', 'Lakewood', 'Rocky River', 'Indian Trail',\n",
       "       'Northwest Calgary', 'Mont-Saint-Hilaire', 'Laval', 'Glendale',\n",
       "       'Champaign', 'Brampton', 'Pickering', 'Kent', 'Bradford',\n",
       "       'Concord', 'Ajax', 'Willoughby', 'Whitby', 'Savoy', 'Gastonia',\n",
       "       'Downtown', 'Anjou', 'Woodmere', 'Rantoul', 'Surprise',\n",
       "       'Dollard-des-Ormeaux', 'North Olmsted', 'Westlake', 'Chesterland',\n",
       "       'Paradise Valley', 'Airdrie', 'Huntersville', 'Strongsville',\n",
       "       'Gilbert', 'Cornelius', 'Chestermere', 'Stouffville',\n",
       "       'Saint-Leonard', 'Verdun', 'Berea', 'Homestead', 'Saint-Lambert',\n",
       "       'Cleveland Heights', 'Frazer', 'Avondale'], dtype=object)"
      ]
     },
     "execution_count": 299,
     "metadata": {},
     "output_type": "execute_result"
    }
   ],
   "source": [
    "business_report['city'].unique()"
   ]
  },
  {
   "cell_type": "code",
   "execution_count": 300,
   "metadata": {},
   "outputs": [
    {
     "data": {
      "text/plain": [
       "business_id         58\n",
       "city                58\n",
       "business_name       58\n",
       "categories          58\n",
       "review_count        58\n",
       "average_stars       58\n",
       "weighted_stars      58\n",
       "weighted_stars_2    58\n",
       "dtype: int64"
      ]
     },
     "execution_count": 300,
     "metadata": {},
     "output_type": "execute_result"
    }
   ],
   "source": [
    "business_report[(business_report.city == 'Toronto') & (business_report.average_stars >= 4.0)].count()"
   ]
  },
  {
   "cell_type": "code",
   "execution_count": 301,
   "metadata": {},
   "outputs": [
    {
     "data": {
      "text/plain": [
       "business_id         28\n",
       "city                28\n",
       "business_name       28\n",
       "categories          28\n",
       "review_count        28\n",
       "average_stars       28\n",
       "weighted_stars      28\n",
       "weighted_stars_2    28\n",
       "dtype: int64"
      ]
     },
     "execution_count": 301,
     "metadata": {},
     "output_type": "execute_result"
    }
   ],
   "source": [
    "business_report[(business_report.city == 'Toronto') & (business_report.weighted_stars >= 4.0)].count()"
   ]
  },
  {
   "cell_type": "code",
   "execution_count": 302,
   "metadata": {},
   "outputs": [
    {
     "data": {
      "text/plain": [
       "business_id         60\n",
       "city                60\n",
       "business_name       60\n",
       "categories          60\n",
       "review_count        60\n",
       "average_stars       60\n",
       "weighted_stars      60\n",
       "weighted_stars_2    60\n",
       "dtype: int64"
      ]
     },
     "execution_count": 302,
     "metadata": {},
     "output_type": "execute_result"
    }
   ],
   "source": [
    "business_report[(business_report.city == 'Toronto') & (business_report.weighted_stars_2 >= 4)].count()"
   ]
  },
  {
   "cell_type": "code",
   "execution_count": 303,
   "metadata": {},
   "outputs": [],
   "source": [
    "presentation = business_report[['business_name', 'city', 'review_count', 'average_stars', 'weighted_stars', 'weighted_stars_2']]"
   ]
  },
  {
   "cell_type": "code",
   "execution_count": 304,
   "metadata": {
    "scrolled": true
   },
   "outputs": [
    {
     "data": {
      "text/html": [
       "<div>\n",
       "<style scoped>\n",
       "    .dataframe tbody tr th:only-of-type {\n",
       "        vertical-align: middle;\n",
       "    }\n",
       "\n",
       "    .dataframe tbody tr th {\n",
       "        vertical-align: top;\n",
       "    }\n",
       "\n",
       "    .dataframe thead th {\n",
       "        text-align: right;\n",
       "    }\n",
       "</style>\n",
       "<table border=\"1\" class=\"dataframe\">\n",
       "  <thead>\n",
       "    <tr style=\"text-align: right;\">\n",
       "      <th></th>\n",
       "      <th>business_name</th>\n",
       "      <th>city</th>\n",
       "      <th>review_count</th>\n",
       "      <th>average_stars</th>\n",
       "      <th>weighted_stars</th>\n",
       "      <th>weighted_stars_2</th>\n",
       "    </tr>\n",
       "  </thead>\n",
       "  <tbody>\n",
       "    <tr>\n",
       "      <th>0</th>\n",
       "      <td>Lan Restaurant</td>\n",
       "      <td>Toronto</td>\n",
       "      <td>34</td>\n",
       "      <td>3.5</td>\n",
       "      <td>3.188889</td>\n",
       "      <td>4.333333</td>\n",
       "    </tr>\n",
       "    <tr>\n",
       "      <th>1</th>\n",
       "      <td>Xe Lua Restaurant</td>\n",
       "      <td>Markham</td>\n",
       "      <td>13</td>\n",
       "      <td>1.5</td>\n",
       "      <td>1.235808</td>\n",
       "      <td>2.000000</td>\n",
       "    </tr>\n",
       "    <tr>\n",
       "      <th>2</th>\n",
       "      <td>Pho 88</td>\n",
       "      <td>Toronto</td>\n",
       "      <td>66</td>\n",
       "      <td>2.5</td>\n",
       "      <td>2.807512</td>\n",
       "      <td>2.250000</td>\n",
       "    </tr>\n",
       "    <tr>\n",
       "      <th>3</th>\n",
       "      <td>Lac Vien Vietnamese Restaurant</td>\n",
       "      <td>Scarborough</td>\n",
       "      <td>68</td>\n",
       "      <td>3.0</td>\n",
       "      <td>3.202811</td>\n",
       "      <td>2.727273</td>\n",
       "    </tr>\n",
       "    <tr>\n",
       "      <th>4</th>\n",
       "      <td>Anh Dao</td>\n",
       "      <td>Toronto</td>\n",
       "      <td>85</td>\n",
       "      <td>3.5</td>\n",
       "      <td>3.447504</td>\n",
       "      <td>3.692308</td>\n",
       "    </tr>\n",
       "  </tbody>\n",
       "</table>\n",
       "</div>"
      ],
      "text/plain": [
       "                    business_name         city  review_count  average_stars  \\\n",
       "0                  Lan Restaurant      Toronto            34            3.5   \n",
       "1               Xe Lua Restaurant      Markham            13            1.5   \n",
       "2                          Pho 88      Toronto            66            2.5   \n",
       "3  Lac Vien Vietnamese Restaurant  Scarborough            68            3.0   \n",
       "4                         Anh Dao      Toronto            85            3.5   \n",
       "\n",
       "   weighted_stars  weighted_stars_2  \n",
       "0        3.188889          4.333333  \n",
       "1        1.235808          2.000000  \n",
       "2        2.807512          2.250000  \n",
       "3        3.202811          2.727273  \n",
       "4        3.447504          3.692308  "
      ]
     },
     "execution_count": 304,
     "metadata": {},
     "output_type": "execute_result"
    }
   ],
   "source": [
    "presentation.head()"
   ]
  },
  {
   "cell_type": "code",
   "execution_count": 305,
   "metadata": {},
   "outputs": [
    {
     "data": {
      "text/html": [
       "<div>\n",
       "<style scoped>\n",
       "    .dataframe tbody tr th:only-of-type {\n",
       "        vertical-align: middle;\n",
       "    }\n",
       "\n",
       "    .dataframe tbody tr th {\n",
       "        vertical-align: top;\n",
       "    }\n",
       "\n",
       "    .dataframe thead th {\n",
       "        text-align: right;\n",
       "    }\n",
       "</style>\n",
       "<table border=\"1\" class=\"dataframe\">\n",
       "  <thead>\n",
       "    <tr style=\"text-align: right;\">\n",
       "      <th></th>\n",
       "      <th>business_name</th>\n",
       "      <th>city</th>\n",
       "      <th>review_count</th>\n",
       "      <th>average_stars</th>\n",
       "      <th>weighted_stars</th>\n",
       "      <th>weighted_stars_2</th>\n",
       "    </tr>\n",
       "  </thead>\n",
       "  <tbody>\n",
       "    <tr>\n",
       "      <th>0</th>\n",
       "      <td>Lan Restaurant</td>\n",
       "      <td>Toronto</td>\n",
       "      <td>34</td>\n",
       "      <td>3.5</td>\n",
       "      <td>3.188889</td>\n",
       "      <td>4.333333</td>\n",
       "    </tr>\n",
       "    <tr>\n",
       "      <th>1</th>\n",
       "      <td>Xe Lua Restaurant</td>\n",
       "      <td>Markham</td>\n",
       "      <td>13</td>\n",
       "      <td>1.5</td>\n",
       "      <td>1.235808</td>\n",
       "      <td>2.000000</td>\n",
       "    </tr>\n",
       "    <tr>\n",
       "      <th>2</th>\n",
       "      <td>Pho 88</td>\n",
       "      <td>Toronto</td>\n",
       "      <td>66</td>\n",
       "      <td>2.5</td>\n",
       "      <td>2.807512</td>\n",
       "      <td>2.250000</td>\n",
       "    </tr>\n",
       "    <tr>\n",
       "      <th>3</th>\n",
       "      <td>Lac Vien Vietnamese Restaurant</td>\n",
       "      <td>Scarborough</td>\n",
       "      <td>68</td>\n",
       "      <td>3.0</td>\n",
       "      <td>3.202811</td>\n",
       "      <td>2.727273</td>\n",
       "    </tr>\n",
       "    <tr>\n",
       "      <th>4</th>\n",
       "      <td>Anh Dao</td>\n",
       "      <td>Toronto</td>\n",
       "      <td>85</td>\n",
       "      <td>3.5</td>\n",
       "      <td>3.447504</td>\n",
       "      <td>3.692308</td>\n",
       "    </tr>\n",
       "  </tbody>\n",
       "</table>\n",
       "</div>"
      ],
      "text/plain": [
       "                    business_name         city  review_count  average_stars  \\\n",
       "0                  Lan Restaurant      Toronto            34            3.5   \n",
       "1               Xe Lua Restaurant      Markham            13            1.5   \n",
       "2                          Pho 88      Toronto            66            2.5   \n",
       "3  Lac Vien Vietnamese Restaurant  Scarborough            68            3.0   \n",
       "4                         Anh Dao      Toronto            85            3.5   \n",
       "\n",
       "   weighted_stars  weighted_stars_2  \n",
       "0        3.188889          4.333333  \n",
       "1        1.235808          2.000000  \n",
       "2        2.807512          2.250000  \n",
       "3        3.202811          2.727273  \n",
       "4        3.447504          3.692308  "
      ]
     },
     "execution_count": 305,
     "metadata": {},
     "output_type": "execute_result"
    }
   ],
   "source": [
    "presentation.head()"
   ]
  },
  {
   "cell_type": "code",
   "execution_count": 311,
   "metadata": {},
   "outputs": [],
   "source": [
    "decrease1 = 0\n",
    "decrease2 = 0\n",
    "for city in presentation.city.unique():\n",
    "    a = presentation[(presentation.city == city) & (presentation.average_stars >= 4)].shape[0]\n",
    "    b = presentation[(presentation.city == city) & (presentation.weighted_stars >= 4)].shape[0]\n",
    "    c = presentation[(presentation.city == city) & (presentation.weighted_stars_2 >= 4)].shape[0]\n",
    "    if (a > b):\n",
    "        decrease1 += 1\n",
    "    if (a > c):\n",
    "        decrease2 += 1"
   ]
  },
  {
   "cell_type": "code",
   "execution_count": 312,
   "metadata": {},
   "outputs": [
    {
     "data": {
      "text/plain": [
       "46"
      ]
     },
     "execution_count": 312,
     "metadata": {},
     "output_type": "execute_result"
    }
   ],
   "source": [
    "decrease1"
   ]
  },
  {
   "cell_type": "code",
   "execution_count": 313,
   "metadata": {},
   "outputs": [
    {
     "data": {
      "text/plain": [
       "30"
      ]
     },
     "execution_count": 313,
     "metadata": {},
     "output_type": "execute_result"
    }
   ],
   "source": [
    "decrease2"
   ]
  },
  {
   "cell_type": "code",
   "execution_count": 314,
   "metadata": {},
   "outputs": [
    {
     "data": {
      "text/plain": [
       "84"
      ]
     },
     "execution_count": 314,
     "metadata": {},
     "output_type": "execute_result"
    }
   ],
   "source": [
    "len(presentation.city.unique())"
   ]
  },
  {
   "cell_type": "code",
   "execution_count": 315,
   "metadata": {},
   "outputs": [
    {
     "data": {
      "text/plain": [
       "0.5476190476190477"
      ]
     },
     "execution_count": 315,
     "metadata": {},
     "output_type": "execute_result"
    }
   ],
   "source": [
    "46 / 84"
   ]
  },
  {
   "cell_type": "code",
   "execution_count": 317,
   "metadata": {},
   "outputs": [
    {
     "data": {
      "text/plain": [
       "0.35714285714285715"
      ]
     },
     "execution_count": 317,
     "metadata": {},
     "output_type": "execute_result"
    }
   ],
   "source": [
    "30 / 84"
   ]
  },
  {
   "cell_type": "code",
   "execution_count": null,
   "metadata": {},
   "outputs": [],
   "source": []
  }
 ],
 "metadata": {
  "kernelspec": {
   "display_name": "Python 3",
   "language": "python",
   "name": "python3"
  },
  "language_info": {
   "codemirror_mode": {
    "name": "ipython",
    "version": 3
   },
   "file_extension": ".py",
   "mimetype": "text/x-python",
   "name": "python",
   "nbconvert_exporter": "python",
   "pygments_lexer": "ipython3",
   "version": "3.6.2"
  }
 },
 "nbformat": 4,
 "nbformat_minor": 2
}
