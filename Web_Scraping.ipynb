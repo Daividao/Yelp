{
 "cells": [
  {
   "cell_type": "code",
   "execution_count": 525,
   "metadata": {},
   "outputs": [],
   "source": [
    "from bs4 import BeautifulSoup\n",
    "import requests"
   ]
  },
  {
   "cell_type": "code",
   "execution_count": 526,
   "metadata": {},
   "outputs": [],
   "source": [
    "viet_names = []"
   ]
  },
  {
   "cell_type": "code",
   "execution_count": 527,
   "metadata": {},
   "outputs": [],
   "source": [
    "# Website 1\n",
    "total_pages = 7\n",
    "\n",
    "for page in range(1, total_pages + 1):\n",
    "    r = requests.get('http://www.babynames.net/all/vietnamese?page=' + str(page))\n",
    "    html = r.text\n",
    "    soup = BeautifulSoup(html)\n",
    "    for link in soup.find_all('span', {\"class\": \"result-name\"}):\n",
    "        viet_names.append(link.text.strip())"
   ]
  },
  {
   "cell_type": "code",
   "execution_count": 528,
   "metadata": {},
   "outputs": [
    {
     "name": "stdout",
     "output_type": "stream",
     "text": [
      "['Bian', 'Bich', 'Binh', 'Cam', 'Chau', 'Chi', 'Chinh', 'Cuc', 'Danh', 'Dinh', 'Duc', 'Due', 'Dung', 'Duong', 'Giang', 'Hang', 'Hanh', 'Hau', 'Hien', 'Hoa', 'Hue', 'Hung', 'Huong', 'Huy', 'Khan', 'Lanh', 'Linh', 'Long', 'Mai', 'Minh', 'Ngai', 'Ngoc', 'Nguyen', 'Nguyet', 'Nhung', 'Phuc', 'Phuong', 'Quan', 'Quang', 'Quy', 'Quyen', 'Sang', 'Sinh', 'Tam', 'Tan', 'Tham', 'Thanh', 'Thao', 'Thi', 'Thom', 'Thu', 'Thuan', 'Thuy', 'Tien', 'Trai', 'Trang', 'Truc', 'Tuan', 'Tuyen', 'Tuyet', 'Vien', 'Vinh', 'Xuan', 'Yen']\n"
     ]
    }
   ],
   "source": [
    "print(viet_names)"
   ]
  },
  {
   "cell_type": "code",
   "execution_count": 529,
   "metadata": {},
   "outputs": [],
   "source": [
    "# Website 2\n",
    "offset = 0\n",
    "\n",
    "for o in range(0,2):\n",
    "    r = requests.get('http://www.essentialbaby.com.au/pregnancy/baby-names/vietnamese-baby-name?offset=' + str(offset))\n",
    "    html = r.text\n",
    "    soup = BeautifulSoup(html)\n",
    "    for link in soup.find_all(['dt']):\n",
    "        name = link.text\n",
    "        if (name not in viet_names):\n",
    "            viet_names.append(link.text.strip())\n",
    "    offset += 50 "
   ]
  },
  {
   "cell_type": "code",
   "execution_count": 530,
   "metadata": {},
   "outputs": [
    {
     "name": "stdout",
     "output_type": "stream",
     "text": [
      "['Bian', 'Bich', 'Binh', 'Cam', 'Chau', 'Chi', 'Chinh', 'Cuc', 'Danh', 'Dinh', 'Duc', 'Due', 'Dung', 'Duong', 'Giang', 'Hang', 'Hanh', 'Hau', 'Hien', 'Hoa', 'Hue', 'Hung', 'Huong', 'Huy', 'Khan', 'Lanh', 'Linh', 'Long', 'Mai', 'Minh', 'Ngai', 'Ngoc', 'Nguyen', 'Nguyet', 'Nhung', 'Phuc', 'Phuong', 'Quan', 'Quang', 'Quy', 'Quyen', 'Sang', 'Sinh', 'Tam', 'Tan', 'Tham', 'Thanh', 'Thao', 'Thi', 'Thom', 'Thu', 'Thuan', 'Thuy', 'Tien', 'Trai', 'Trang', 'Truc', 'Tuan', 'Tuyen', 'Tuyet', 'Vien', 'Vinh', 'Xuan', 'Yen', 'Ahn', 'Bach Yen', 'Bao', 'Bay', 'Bien', 'Cadeo', 'Cais', 'Chung', 'Chuong', 'Diem', 'Diep', 'Dong', 'Duy', 'Duyen', 'Ha', 'Hao', 'Hieu', 'Hoai', 'Hoang', 'Hong', 'Hop', 'Huyen', 'Khoi', 'Khuong', 'Khuyen', 'Kieu', 'Lam', 'Lan', 'Lieu', 'Loc', 'Ly', 'Nam', 'Nhi', 'Nhu', 'Nu', 'Phong', 'Phuoc', 'Quynh', 'Sen', 'Teo', 'Thai', 'Than', 'Thuong', 'Thuyet', 'Thy', 'Tin', 'Toan', 'Tong', 'Trinh', 'Trung', 'Tu', 'Uyen', 'Viet', 'Vui']\n"
     ]
    }
   ],
   "source": [
    "print(viet_names)"
   ]
  },
  {
   "cell_type": "code",
   "execution_count": 531,
   "metadata": {},
   "outputs": [],
   "source": [
    "# Website 3\n",
    "website3page = 2\n",
    "page = 1\n",
    "while page <= website3page:\n",
    "    r = requests.get('https://www.momjunction.com/baby-names/vietnamese/page/' + str(page) + '/')\n",
    "    html = r.text\n",
    "    soup = BeautifulSoup(html)\n",
    "    common = \"https://www.momjunction.com/baby-names/\"\n",
    "    arr = soup.find_all(lambda tag : tag.name == 'a' and len(tag.attrs) == 2 and tag[\"href\"][:len(common)] == \"https://www.momjunction.com/baby-names/\")\n",
    "    for i in range(1,len(arr) - 1):\n",
    "        name = arr[i].text.strip().lower().capitalize()\n",
    "        if (name not in viet_names):\n",
    "            viet_names.append(name)\n",
    "    page += 1"
   ]
  },
  {
   "cell_type": "code",
   "execution_count": 532,
   "metadata": {},
   "outputs": [
    {
     "name": "stdout",
     "output_type": "stream",
     "text": [
      "['Bian', 'Bich', 'Binh', 'Cam', 'Chau', 'Chi', 'Chinh', 'Cuc', 'Danh', 'Dinh', 'Duc', 'Due', 'Dung', 'Duong', 'Giang', 'Hang', 'Hanh', 'Hau', 'Hien', 'Hoa', 'Hue', 'Hung', 'Huong', 'Huy', 'Khan', 'Lanh', 'Linh', 'Long', 'Mai', 'Minh', 'Ngai', 'Ngoc', 'Nguyen', 'Nguyet', 'Nhung', 'Phuc', 'Phuong', 'Quan', 'Quang', 'Quy', 'Quyen', 'Sang', 'Sinh', 'Tam', 'Tan', 'Tham', 'Thanh', 'Thao', 'Thi', 'Thom', 'Thu', 'Thuan', 'Thuy', 'Tien', 'Trai', 'Trang', 'Truc', 'Tuan', 'Tuyen', 'Tuyet', 'Vien', 'Vinh', 'Xuan', 'Yen', 'Ahn', 'Bach Yen', 'Bao', 'Bay', 'Bien', 'Cadeo', 'Cais', 'Chung', 'Chuong', 'Diem', 'Diep', 'Dong', 'Duy', 'Duyen', 'Ha', 'Hao', 'Hieu', 'Hoai', 'Hoang', 'Hong', 'Hop', 'Huyen', 'Khoi', 'Khuong', 'Khuyen', 'Kieu', 'Lam', 'Lan', 'Lieu', 'Loc', 'Ly', 'Nam', 'Nhi', 'Nhu', 'Nu', 'Phong', 'Phuoc', 'Quynh', 'Sen', 'Teo', 'Thai', 'Than', 'Thuong', 'Thuyet', 'Thy', 'Tin', 'Toan', 'Tong', 'Trinh', 'Trung', 'Tu', 'Uyen', 'Viet', 'Vui', 'Bu', 'Buu', 'Canh', 'Dat', 'Dhin', 'Dinesha', 'Duoaud', 'Gya', 'Heiu', 'Ho', 'Huca', 'Lap', 'Nien', 'Suong', 'Thang', 'Thien', 'Tho', 'Thuc', 'Ti', 'Trieu', 'Twan']\n"
     ]
    }
   ],
   "source": [
    "print(viet_names)"
   ]
  },
  {
   "cell_type": "code",
   "execution_count": 533,
   "metadata": {},
   "outputs": [],
   "source": [
    "# Website 4\n",
    "import unidecode\n",
    "\n",
    "r4 = requests.get('http://www.ten-be.com/c/Top%20100%20tên%20phổ%20biến%20tại%20Việt%20Nam')\n",
    "html4 = r4.text\n",
    "soup4 = BeautifulSoup(html4)\n",
    "arr4 = soup4.find_all(lambda tag: tag.name == 'a' and len(tag.attrs) == 1)[3:-4]\n",
    "for link in arr4:\n",
    "    names = link.text.split()\n",
    "    for original_name in names:\n",
    "        name = unidecode.unidecode(original_name)\n",
    "        if (name not in viet_names):\n",
    "            viet_names.append(name)"
   ]
  },
  {
   "cell_type": "code",
   "execution_count": 534,
   "metadata": {},
   "outputs": [
    {
     "name": "stdout",
     "output_type": "stream",
     "text": [
      "['Bian', 'Bich', 'Binh', 'Cam', 'Chau', 'Chi', 'Chinh', 'Cuc', 'Danh', 'Dinh', 'Duc', 'Due', 'Dung', 'Duong', 'Giang', 'Hang', 'Hanh', 'Hau', 'Hien', 'Hoa', 'Hue', 'Hung', 'Huong', 'Huy', 'Khan', 'Lanh', 'Linh', 'Long', 'Mai', 'Minh', 'Ngai', 'Ngoc', 'Nguyen', 'Nguyet', 'Nhung', 'Phuc', 'Phuong', 'Quan', 'Quang', 'Quy', 'Quyen', 'Sang', 'Sinh', 'Tam', 'Tan', 'Tham', 'Thanh', 'Thao', 'Thi', 'Thom', 'Thu', 'Thuan', 'Thuy', 'Tien', 'Trai', 'Trang', 'Truc', 'Tuan', 'Tuyen', 'Tuyet', 'Vien', 'Vinh', 'Xuan', 'Yen', 'Ahn', 'Bach Yen', 'Bao', 'Bay', 'Bien', 'Cadeo', 'Cais', 'Chung', 'Chuong', 'Diem', 'Diep', 'Dong', 'Duy', 'Duyen', 'Ha', 'Hao', 'Hieu', 'Hoai', 'Hoang', 'Hong', 'Hop', 'Huyen', 'Khoi', 'Khuong', 'Khuyen', 'Kieu', 'Lam', 'Lan', 'Lieu', 'Loc', 'Ly', 'Nam', 'Nhi', 'Nhu', 'Nu', 'Phong', 'Phuoc', 'Quynh', 'Sen', 'Teo', 'Thai', 'Than', 'Thuong', 'Thuyet', 'Thy', 'Tin', 'Toan', 'Tong', 'Trinh', 'Trung', 'Tu', 'Uyen', 'Viet', 'Vui', 'Bu', 'Buu', 'Canh', 'Dat', 'Dhin', 'Dinesha', 'Duoaud', 'Gya', 'Heiu', 'Ho', 'Huca', 'Lap', 'Nien', 'Suong', 'Thang', 'Thien', 'Tho', 'Thuc', 'Ti', 'Trieu', 'Twan', 'Anh', 'Van', 'Khanh', 'Kim', 'Ngan', 'Cuong', 'Han', 'Tung', 'Tra', 'My', 'Son', 'Tuong', 'Vy', 'Hai', 'Tram', 'Tran', 'Dieu', 'Hiep', 'Gia', 'Phung', 'Loan', 'Luan', 'Nhan', 'Oanh']\n"
     ]
    }
   ],
   "source": [
    "print(viet_names)"
   ]
  },
  {
   "cell_type": "code",
   "execution_count": 535,
   "metadata": {},
   "outputs": [
    {
     "data": {
      "text/plain": [
       "163"
      ]
     },
     "execution_count": 535,
     "metadata": {},
     "output_type": "execute_result"
    }
   ],
   "source": [
    "len(viet_names)"
   ]
  },
  {
   "cell_type": "code",
   "execution_count": 536,
   "metadata": {},
   "outputs": [],
   "source": [
    "# Website 5\n",
    "strina = \"\"\"An, Âu, Âu Dương, Bá, Bạch, Bàng, Bành, Bao, Bì, Bồ, Bùi, \n",
    "Cái, Cam, Can, Cao, Cáp, Cát, Cổ, Công, Cung, Chân, Chu, Chúc, Chử, Dao, \n",
    "Diệc, Diệp, Doãn, Dư, Dương, Ðái, Ðàm, Ðan , Ðơn, Ðào, Ðặng, Ðậu, Ðịch, Ðiền, \n",
    "Ðiêu, Ðinh, Ðoàn, Ðỗ, Ðông, Ðồng, Ðường, Giản, Giang, Giáp, Hà, Hạ, Hàn, Hán, Hạng, \n",
    "Hầu, Hinh, Hình, Hoa, Hoàng, Hoắc, Hồ, Hồng, Hùng, Hứa, Hướng, Kỉ, Kiều, Kim, Kha, Khoan, \n",
    "Khổng, Khu, Khuất, Khúc, Khứa, Khưu, Khương, La, Lã, Lạc, Lai, Lao, Lăng, Lâm, Lê, Lệ, \n",
    "Lý, Liên, Lô, Lộ, Lôi, Lu, Lục, Lư, Lương, Ma, Mã, Mạc, Mạch, Mai, Mạnh, Mao, Mẫn, Mộc, Mục, \n",
    "Ninh, Ngạc, Ngô, Ngũ, Ngụy, Ngươn, Nguyễn, Nghê, Nghị, Nghiêm, Nhan, Nhâm, Nhữ, Ô, Ông, Phạm, \n",
    "Phan, Phàn, Phó, Phù, Phú, Phùng, Phương, Quách, Quan, Quản, Quang, Sầm, Si, Sĩ, Sở, Sử, Tạ, \n",
    "Tả, Tào, Tăng, Tân, Tần, Tất, Tiêu, Tô, Tôn, Tống, Từ, Tưởng, Thái, Thang, Thành, Thẩm, Thân, \n",
    "Thiệu, Thời, Thường, Toàn, Trác, Trang, Trần, Triệu, \n",
    "Trình, Trịnh, Trương, Ung, Uông, Văn, Vân, Vu, Vũ, Vương, Vưu, Xa, A, Ai, An, \n",
    "Áo, Ân, Âu, Bá, Bà, Bạc, Bạch, Bàn, Bàng, Bành, Bảo, \n",
    "Bạt, Bằng, Bê, Bế, Bi, Bì, Bia, Biên, Biện, Bình, Bố, Bồ, \n",
    "Bổ, Bôi, Bông, Bu, Bùi, Ca, Cả, Cai, Cái, Cam, Cảm, Can, Càng, \n",
    "Cánh, Cảnh, Cao, Cáo, Cáp, Cát, Căn, Cắt, Cầm, Cần, Cấn, Chan Chàng, \n",
    "Châm, Chân, Châu, Chế, Chi, Chim, Chiêm, Chiều, Chu, Chúc, Chung, Chuyên, \n",
    "Chử, Chức, Chương, Cô, Cố, Cổ, Cốc, Công, Công Huyền, Công Nữ, Công Tằng Tôn Nữ, \n",
    "Công Tôn, Cống, Cù, Cung, Cự, Cửu, Dã, Danh, Dân, Dì, Dị, Diệc, Diệp, Diêu, Diệu, \n",
    "Doãn, Dụ, Dung, Duy, Dư, Dương, Ða, Ðác, Ðái, Ðàm, Ðan, Ðào, Ðạo, Ðắc, Ðằng, \n",
    "Ðặng, Ðấu, Ðẩu, Ðậu, Ðèo, Ðiêm, Ðiền, Ðiệp, Ðiêu, Ðiều, Ðiểu, Ðiệu, Ðịch, Ðinh, \n",
    "Ðình, Ðịnh, Ðoái, Ðoàn, Ðồ, Ðỗ, Ðối, Ðôn, Ðông, Ðồng, Ðống, Ðổng, Ðức, Ðường, Gan, \n",
    "Giao, Giản, Giang, Giáng, Giao, Giáp, Giệp, Gioãn, Giốc, Gương, Hà, Há, Hạ, Hai, Hàm, Hàn, \n",
    "Hán, Hang, Hàng, Hạnh, Hào, Hảo, Hạp, Hâm, Hầu, Hê, Hi, Hinh, Hình, Hò, Hoa, Hoài, Hoan, \n",
    "Hoàng, Huỳnh, Hoắc, Hồ, Hội, Hồng, Hung, Hùng, Hui, Huy, Hứa, Hương, Hướng, Kan, \n",
    "Kem, Kha, Khả, Khâm, Khâu, Kheo, Khiên, Khiếu, Khôi, Khổng, Khu, Khuất, Khúc, Khương, \n",
    "Khưu, Kiên, Kiện, Kiều, Kiệu, Kim, Kỷ, La, Lã, Lại, Lại, Lang, Lanh, Lãnh, Lão, Lăng, \n",
    "Lâm, Lầu, Lê, Lều, Lịch, Liêm, Liên, Liêng, Liêu, Liễu, Linh, Lĩnh, Liu, Lò, Lô, Lỗ, Lộ, Lộc, \n",
    "Lôi, Lợi, Lù, Lục, Luyện, Lữ, Lương, Lưu, Lý, Ma, Mã, Mạc, Mạch, Mai, Man, Mang, Mạnh, Mao, \n",
    "Mẫn, Mật, Mậu, Mẫu, Mị, Miên, Minh, Mục, Mùi, Nan, Nga, Ngạc, Ngân, Nghê, Nghi, Nghĩa, \n",
    "Nghiêm, Nghiên, Ngọ, Ngọc, Ngô, Ngũ, Ngụy, Nguyễn, Ngư, Ngưu, Nhã, Nhữ, Nham, Nhan, Nhạn, \n",
    "Nhâm, Nhân, Nhất, Nhiếp, Nhung, Niên, Ninh, Nông, Nung, Nùng, On, Ong, Ô, Ôn, Ông, Phạm, \n",
    "Phan, Phàn, Phẩm, Phí, Phó, Phòng, Phô, Phù, Phú, Phúc, Phùng, Phương, Quách, Quan, Quản, \n",
    "Quang, Quảng, Quấc, Quốc, Quân, Quất, Quyên, Quyến, Quyền, Quỳnh, Roãn, Sa, Sái, Sam, Sâm, \n",
    "Sầm, Sẩm, Sĩ, Sở, Sơn, Sử, Sưu, Tạ, Tán, Tang, Tào, Tạo, Tảo, Tắc, Tăng, Tân, Tần, Tất, Teo, \n",
    "Tha, Thạc, Thạch, Thái, Thang, Thanh, Thành, Thảo, Thẩm, Thân, Thê, Thể, Thềm, Thi, Thiên, \n",
    "Thiện, Thiết, Thiệt, Thiều, Thiệu, Thịnh, Thông, Thôi, Thủ, Thục, Thượng, Ti, Tích, Tiên, \n",
    "Tiến, Tiệt, Tiêu, Toàn, Tô, Tôn, Tôn, Thất, Tôn, Nữ, Tống, Tuyên, Trà, Trác, Trang, Trầm, Trần, \n",
    "Tri, Trí, Triển, Triệu, Trình, Trịnh, Trong, Tru, Trung, Trừ, Trực, Trưng, Trương, Trượng, \n",
    "Tuân, Tuấn, Tùng, Tư, Từ, Tường, Tướng, Tưởng, Tượng, U, Ủ, Uất, Ung, Uông, Uyển, Ưng, Ứng, \n",
    "Ửng, Vạn, Văn, Vân, Vận, Vầu, Vệ, Vi, Viêm, Viên, Viết, Vinh, Vĩnh, Vịnh, Vu, Vũ, Võ, \n",
    "Vòng, Vỏng, Vô, Vù, Vương, Vưu, Vỹ, Xa, Xuân, Yết\"\"\".replace('\\n','')\n",
    "\n",
    "arr = strina.split(', ')\n",
    "for original_name in arr:\n",
    "    names = original_name.split()\n",
    "    for name in names:\n",
    "        x = unidecode.unidecode(name)\n",
    "        if (x not in viet_names):\n",
    "            viet_names.append(x)"
   ]
  },
  {
   "cell_type": "code",
   "execution_count": 537,
   "metadata": {},
   "outputs": [
    {
     "name": "stdout",
     "output_type": "stream",
     "text": [
      "['Bian', 'Bich', 'Binh', 'Cam', 'Chau', 'Chi', 'Chinh', 'Cuc', 'Danh', 'Dinh', 'Duc', 'Due', 'Dung', 'Duong', 'Giang', 'Hang', 'Hanh', 'Hau', 'Hien', 'Hoa', 'Hue', 'Hung', 'Huong', 'Huy', 'Khan', 'Lanh', 'Linh', 'Long', 'Mai', 'Minh', 'Ngai', 'Ngoc', 'Nguyen', 'Nguyet', 'Nhung', 'Phuc', 'Phuong', 'Quan', 'Quang', 'Quy', 'Quyen', 'Sang', 'Sinh', 'Tam', 'Tan', 'Tham', 'Thanh', 'Thao', 'Thi', 'Thom', 'Thu', 'Thuan', 'Thuy', 'Tien', 'Trai', 'Trang', 'Truc', 'Tuan', 'Tuyen', 'Tuyet', 'Vien', 'Vinh', 'Xuan', 'Yen', 'Ahn', 'Bach Yen', 'Bao', 'Bay', 'Bien', 'Cadeo', 'Cais', 'Chung', 'Chuong', 'Diem', 'Diep', 'Dong', 'Duy', 'Duyen', 'Ha', 'Hao', 'Hieu', 'Hoai', 'Hoang', 'Hong', 'Hop', 'Huyen', 'Khoi', 'Khuong', 'Khuyen', 'Kieu', 'Lam', 'Lan', 'Lieu', 'Loc', 'Ly', 'Nam', 'Nhi', 'Nhu', 'Nu', 'Phong', 'Phuoc', 'Quynh', 'Sen', 'Teo', 'Thai', 'Than', 'Thuong', 'Thuyet', 'Thy', 'Tin', 'Toan', 'Tong', 'Trinh', 'Trung', 'Tu', 'Uyen', 'Viet', 'Vui', 'Bu', 'Buu', 'Canh', 'Dat', 'Dhin', 'Dinesha', 'Duoaud', 'Gya', 'Heiu', 'Ho', 'Huca', 'Lap', 'Nien', 'Suong', 'Thang', 'Thien', 'Tho', 'Thuc', 'Ti', 'Trieu', 'Twan', 'Anh', 'Van', 'Khanh', 'Kim', 'Ngan', 'Cuong', 'Han', 'Tung', 'Tra', 'My', 'Son', 'Tuong', 'Vy', 'Hai', 'Tram', 'Tran', 'Dieu', 'Hiep', 'Gia', 'Phung', 'Loan', 'Luan', 'Nhan', 'Oanh', 'An', 'Au', 'Ba', 'Bach', 'Bang', 'Banh', 'Bi', 'Bo', 'Bui', 'Cai', 'Can', 'Cao', 'Cap', 'Cat', 'Co', 'Cong', 'Cung', 'Chan', 'Chu', 'Chuc', 'Dao', 'Diec', 'Doan', 'Du', 'Dai', 'Dam', 'Dan', 'Don', 'Dang', 'Dau', 'Dich', 'Dien', 'Do', 'Gian', 'Giap', 'Hinh', 'Hoac', 'Hua', 'Ki', 'Kha', 'Khoan', 'Khong', 'Khu', 'Khuat', 'Khuc', 'Khua', 'Khuu', 'La', 'Lac', 'Lai', 'Lao', 'Lang', 'Le', 'Lien', 'Lo', 'Loi', 'Lu', 'Luc', 'Luong', 'Ma', 'Mac', 'Mach', 'Manh', 'Mao', 'Man', 'Moc', 'Muc', 'Ninh', 'Ngac', 'Ngo', 'Ngu', 'Nguy', 'Nguon', 'Nghe', 'Nghi', 'Nghiem', 'Nham', 'O', 'Ong', 'Pham', 'Phan', 'Pho', 'Phu', 'Quach', 'Sam', 'Si', 'So', 'Su', 'Ta', 'Tao', 'Tang', 'Tat', 'Tieu', 'To', 'Ton', 'Thieu', 'Thoi', 'Trac', 'Truong', 'Ung', 'Uong', 'Vu', 'Vuong', 'Vuu', 'Xa', 'A', 'Ai', 'Ao', 'Bac', 'Ban', 'Bat', 'Be', 'Bia', 'Boi', 'Bong', 'Ca', 'Cang', 'Chang', 'Cham', 'Che', 'Chim', 'Chiem', 'Chieu', 'Chuyen', 'Coc', 'Cu', 'Cuu', 'Da', 'Di', 'Dac', 'Deo', 'Doai', 'Doi', 'Gan', 'Giao', 'Giep', 'Gioan', 'Gioc', 'Guong', 'Ham', 'Hap', 'He', 'Hi', 'Hoan', 'Huynh', 'Hoi', 'Hui', 'Kan', 'Kem', 'Kham', 'Khau', 'Kheo', 'Khien', 'Khieu', 'Kien', 'Ky', 'Lau', 'Leu', 'Lich', 'Liem', 'Lieng', 'Liu', 'Luyen', 'Luu', 'Mang', 'Mat', 'Mau', 'Mi', 'Mien', 'Mui', 'Nan', 'Nga', 'Nghia', 'Nghien', 'Nguu', 'Nha', 'Nhat', 'Nhiep', 'Nong', 'Nung', 'On', 'Phi', 'Quac', 'Quoc', 'Quat', 'Roan', 'Sa', 'Sai', 'Suu', 'Tac', 'Tha', 'Thac', 'Thach', 'The', 'Them', 'Thiet', 'Thinh', 'Thong', 'Tich', 'Tiet', 'That', 'Tri', 'Trien', 'Trong', 'Tru', 'U', 'Uat', 'Vau', 'Ve', 'Vi', 'Viem', 'Vo', 'Vong', 'Yet']\n"
     ]
    }
   ],
   "source": [
    "print(viet_names)"
   ]
  },
  {
   "cell_type": "code",
   "execution_count": 538,
   "metadata": {},
   "outputs": [
    {
     "data": {
      "text/plain": [
       "377"
      ]
     },
     "execution_count": 538,
     "metadata": {},
     "output_type": "execute_result"
    }
   ],
   "source": [
    "len(viet_names)"
   ]
  },
  {
   "cell_type": "code",
   "execution_count": 539,
   "metadata": {},
   "outputs": [],
   "source": [
    "def add(name):\n",
    "    if (name not in viet_names):\n",
    "        viet_names.append(name)"
   ]
  },
  {
   "cell_type": "code",
   "execution_count": 540,
   "metadata": {},
   "outputs": [],
   "source": [
    "# Random names\n",
    "add('Khang')\n",
    "add(\"Minh\")\n",
    "add('Nhat')\n",
    "add('Phuong')\n",
    "add('Tam')\n",
    "add('Duc')\n",
    "add('Phu')\n",
    "add('Ho')\n",
    "add('Khai')\n",
    "add('Phuc')"
   ]
  },
  {
   "cell_type": "code",
   "execution_count": 541,
   "metadata": {},
   "outputs": [
    {
     "name": "stdout",
     "output_type": "stream",
     "text": [
      "['Bian', 'Bich', 'Binh', 'Cam', 'Chau', 'Chi', 'Chinh', 'Cuc', 'Danh', 'Dinh', 'Duc', 'Due', 'Dung', 'Duong', 'Giang', 'Hang', 'Hanh', 'Hau', 'Hien', 'Hoa', 'Hue', 'Hung', 'Huong', 'Huy', 'Khan', 'Lanh', 'Linh', 'Long', 'Mai', 'Minh', 'Ngai', 'Ngoc', 'Nguyen', 'Nguyet', 'Nhung', 'Phuc', 'Phuong', 'Quan', 'Quang', 'Quy', 'Quyen', 'Sang', 'Sinh', 'Tam', 'Tan', 'Tham', 'Thanh', 'Thao', 'Thi', 'Thom', 'Thu', 'Thuan', 'Thuy', 'Tien', 'Trai', 'Trang', 'Truc', 'Tuan', 'Tuyen', 'Tuyet', 'Vien', 'Vinh', 'Xuan', 'Yen', 'Ahn', 'Bach Yen', 'Bao', 'Bay', 'Bien', 'Cadeo', 'Cais', 'Chung', 'Chuong', 'Diem', 'Diep', 'Dong', 'Duy', 'Duyen', 'Ha', 'Hao', 'Hieu', 'Hoai', 'Hoang', 'Hong', 'Hop', 'Huyen', 'Khoi', 'Khuong', 'Khuyen', 'Kieu', 'Lam', 'Lan', 'Lieu', 'Loc', 'Ly', 'Nam', 'Nhi', 'Nhu', 'Nu', 'Phong', 'Phuoc', 'Quynh', 'Sen', 'Teo', 'Thai', 'Than', 'Thuong', 'Thuyet', 'Thy', 'Tin', 'Toan', 'Tong', 'Trinh', 'Trung', 'Tu', 'Uyen', 'Viet', 'Vui', 'Bu', 'Buu', 'Canh', 'Dat', 'Dhin', 'Dinesha', 'Duoaud', 'Gya', 'Heiu', 'Ho', 'Huca', 'Lap', 'Nien', 'Suong', 'Thang', 'Thien', 'Tho', 'Thuc', 'Ti', 'Trieu', 'Twan', 'Anh', 'Van', 'Khanh', 'Kim', 'Ngan', 'Cuong', 'Han', 'Tung', 'Tra', 'My', 'Son', 'Tuong', 'Vy', 'Hai', 'Tram', 'Tran', 'Dieu', 'Hiep', 'Gia', 'Phung', 'Loan', 'Luan', 'Nhan', 'Oanh', 'An', 'Au', 'Ba', 'Bach', 'Bang', 'Banh', 'Bi', 'Bo', 'Bui', 'Cai', 'Can', 'Cao', 'Cap', 'Cat', 'Co', 'Cong', 'Cung', 'Chan', 'Chu', 'Chuc', 'Dao', 'Diec', 'Doan', 'Du', 'Dai', 'Dam', 'Dan', 'Don', 'Dang', 'Dau', 'Dich', 'Dien', 'Do', 'Gian', 'Giap', 'Hinh', 'Hoac', 'Hua', 'Ki', 'Kha', 'Khoan', 'Khong', 'Khu', 'Khuat', 'Khuc', 'Khua', 'Khuu', 'La', 'Lac', 'Lai', 'Lao', 'Lang', 'Le', 'Lien', 'Lo', 'Loi', 'Lu', 'Luc', 'Luong', 'Ma', 'Mac', 'Mach', 'Manh', 'Mao', 'Man', 'Moc', 'Muc', 'Ninh', 'Ngac', 'Ngo', 'Ngu', 'Nguy', 'Nguon', 'Nghe', 'Nghi', 'Nghiem', 'Nham', 'O', 'Ong', 'Pham', 'Phan', 'Pho', 'Phu', 'Quach', 'Sam', 'Si', 'So', 'Su', 'Ta', 'Tao', 'Tang', 'Tat', 'Tieu', 'To', 'Ton', 'Thieu', 'Thoi', 'Trac', 'Truong', 'Ung', 'Uong', 'Vu', 'Vuong', 'Vuu', 'Xa', 'A', 'Ai', 'Ao', 'Bac', 'Ban', 'Bat', 'Be', 'Bia', 'Boi', 'Bong', 'Ca', 'Cang', 'Chang', 'Cham', 'Che', 'Chim', 'Chiem', 'Chieu', 'Chuyen', 'Coc', 'Cu', 'Cuu', 'Da', 'Di', 'Dac', 'Deo', 'Doai', 'Doi', 'Gan', 'Giao', 'Giep', 'Gioan', 'Gioc', 'Guong', 'Ham', 'Hap', 'He', 'Hi', 'Hoan', 'Huynh', 'Hoi', 'Hui', 'Kan', 'Kem', 'Kham', 'Khau', 'Kheo', 'Khien', 'Khieu', 'Kien', 'Ky', 'Lau', 'Leu', 'Lich', 'Liem', 'Lieng', 'Liu', 'Luyen', 'Luu', 'Mang', 'Mat', 'Mau', 'Mi', 'Mien', 'Mui', 'Nan', 'Nga', 'Nghia', 'Nghien', 'Nguu', 'Nha', 'Nhat', 'Nhiep', 'Nong', 'Nung', 'On', 'Phi', 'Quac', 'Quoc', 'Quat', 'Roan', 'Sa', 'Sai', 'Suu', 'Tac', 'Tha', 'Thac', 'Thach', 'The', 'Them', 'Thiet', 'Thinh', 'Thong', 'Tich', 'Tiet', 'That', 'Tri', 'Trien', 'Trong', 'Tru', 'U', 'Uat', 'Vau', 'Ve', 'Vi', 'Viem', 'Vo', 'Vong', 'Yet', 'Khang', 'Khai']\n"
     ]
    }
   ],
   "source": [
    "print(viet_names)"
   ]
  },
  {
   "cell_type": "code",
   "execution_count": 542,
   "metadata": {},
   "outputs": [],
   "source": [
    "# Website 6\n",
    "import unidecode\n",
    "\n",
    "r6 = requests.get('http://www.ten-be.com/c/Tên%20bé%20trai%20phổ%20biến%20tại%20Việt%20Nam')\n",
    "html6 = r6.text\n",
    "soup6 = BeautifulSoup(html6)\n",
    "arr6 = soup6.find_all(lambda tag: tag.name == 'a' and len(tag.attrs) == 1)[3:-4]\n",
    "for link in arr6:\n",
    "    names = link.text.split()\n",
    "    for original_name in names:\n",
    "        name = unidecode.unidecode(original_name)\n",
    "        if (name not in viet_names):\n",
    "            viet_names.append(name)"
   ]
  },
  {
   "cell_type": "code",
   "execution_count": 543,
   "metadata": {},
   "outputs": [
    {
     "name": "stdout",
     "output_type": "stream",
     "text": [
      "['Bian', 'Bich', 'Binh', 'Cam', 'Chau', 'Chi', 'Chinh', 'Cuc', 'Danh', 'Dinh', 'Duc', 'Due', 'Dung', 'Duong', 'Giang', 'Hang', 'Hanh', 'Hau', 'Hien', 'Hoa', 'Hue', 'Hung', 'Huong', 'Huy', 'Khan', 'Lanh', 'Linh', 'Long', 'Mai', 'Minh', 'Ngai', 'Ngoc', 'Nguyen', 'Nguyet', 'Nhung', 'Phuc', 'Phuong', 'Quan', 'Quang', 'Quy', 'Quyen', 'Sang', 'Sinh', 'Tam', 'Tan', 'Tham', 'Thanh', 'Thao', 'Thi', 'Thom', 'Thu', 'Thuan', 'Thuy', 'Tien', 'Trai', 'Trang', 'Truc', 'Tuan', 'Tuyen', 'Tuyet', 'Vien', 'Vinh', 'Xuan', 'Yen', 'Ahn', 'Bach Yen', 'Bao', 'Bay', 'Bien', 'Cadeo', 'Cais', 'Chung', 'Chuong', 'Diem', 'Diep', 'Dong', 'Duy', 'Duyen', 'Ha', 'Hao', 'Hieu', 'Hoai', 'Hoang', 'Hong', 'Hop', 'Huyen', 'Khoi', 'Khuong', 'Khuyen', 'Kieu', 'Lam', 'Lan', 'Lieu', 'Loc', 'Ly', 'Nam', 'Nhi', 'Nhu', 'Nu', 'Phong', 'Phuoc', 'Quynh', 'Sen', 'Teo', 'Thai', 'Than', 'Thuong', 'Thuyet', 'Thy', 'Tin', 'Toan', 'Tong', 'Trinh', 'Trung', 'Tu', 'Uyen', 'Viet', 'Vui', 'Bu', 'Buu', 'Canh', 'Dat', 'Dhin', 'Dinesha', 'Duoaud', 'Gya', 'Heiu', 'Ho', 'Huca', 'Lap', 'Nien', 'Suong', 'Thang', 'Thien', 'Tho', 'Thuc', 'Ti', 'Trieu', 'Twan', 'Anh', 'Van', 'Khanh', 'Kim', 'Ngan', 'Cuong', 'Han', 'Tung', 'Tra', 'My', 'Son', 'Tuong', 'Vy', 'Hai', 'Tram', 'Tran', 'Dieu', 'Hiep', 'Gia', 'Phung', 'Loan', 'Luan', 'Nhan', 'Oanh', 'An', 'Au', 'Ba', 'Bach', 'Bang', 'Banh', 'Bi', 'Bo', 'Bui', 'Cai', 'Can', 'Cao', 'Cap', 'Cat', 'Co', 'Cong', 'Cung', 'Chan', 'Chu', 'Chuc', 'Dao', 'Diec', 'Doan', 'Du', 'Dai', 'Dam', 'Dan', 'Don', 'Dang', 'Dau', 'Dich', 'Dien', 'Do', 'Gian', 'Giap', 'Hinh', 'Hoac', 'Hua', 'Ki', 'Kha', 'Khoan', 'Khong', 'Khu', 'Khuat', 'Khuc', 'Khua', 'Khuu', 'La', 'Lac', 'Lai', 'Lao', 'Lang', 'Le', 'Lien', 'Lo', 'Loi', 'Lu', 'Luc', 'Luong', 'Ma', 'Mac', 'Mach', 'Manh', 'Mao', 'Man', 'Moc', 'Muc', 'Ninh', 'Ngac', 'Ngo', 'Ngu', 'Nguy', 'Nguon', 'Nghe', 'Nghi', 'Nghiem', 'Nham', 'O', 'Ong', 'Pham', 'Phan', 'Pho', 'Phu', 'Quach', 'Sam', 'Si', 'So', 'Su', 'Ta', 'Tao', 'Tang', 'Tat', 'Tieu', 'To', 'Ton', 'Thieu', 'Thoi', 'Trac', 'Truong', 'Ung', 'Uong', 'Vu', 'Vuong', 'Vuu', 'Xa', 'A', 'Ai', 'Ao', 'Bac', 'Ban', 'Bat', 'Be', 'Bia', 'Boi', 'Bong', 'Ca', 'Cang', 'Chang', 'Cham', 'Che', 'Chim', 'Chiem', 'Chieu', 'Chuyen', 'Coc', 'Cu', 'Cuu', 'Da', 'Di', 'Dac', 'Deo', 'Doai', 'Doi', 'Gan', 'Giao', 'Giep', 'Gioan', 'Gioc', 'Guong', 'Ham', 'Hap', 'He', 'Hi', 'Hoan', 'Huynh', 'Hoi', 'Hui', 'Kan', 'Kem', 'Kham', 'Khau', 'Kheo', 'Khien', 'Khieu', 'Kien', 'Ky', 'Lau', 'Leu', 'Lich', 'Liem', 'Lieng', 'Liu', 'Luyen', 'Luu', 'Mang', 'Mat', 'Mau', 'Mi', 'Mien', 'Mui', 'Nan', 'Nga', 'Nghia', 'Nghien', 'Nguu', 'Nha', 'Nhat', 'Nhiep', 'Nong', 'Nung', 'On', 'Phi', 'Quac', 'Quoc', 'Quat', 'Roan', 'Sa', 'Sai', 'Suu', 'Tac', 'Tha', 'Thac', 'Thach', 'The', 'Them', 'Thiet', 'Thinh', 'Thong', 'Tich', 'Tiet', 'That', 'Tri', 'Trien', 'Trong', 'Tru', 'U', 'Uat', 'Vau', 'Ve', 'Vi', 'Viem', 'Vo', 'Vong', 'Yet', 'Khang', 'Khai', 'Chien', 'Khiem', 'Ken', 'Khoa', 'Huan', 'Kiet', 'Tai', 'Phat', 'Thuyen', 'Tony', 'Henry', 'Quyet', 'Rin', 'Andy', 'Ben', 'Huu', 'Steven', 'Thoai', 'Bin', 'Ivan', 'John', 'Triet']\n"
     ]
    }
   ],
   "source": [
    "print(viet_names)"
   ]
  },
  {
   "cell_type": "code",
   "execution_count": 544,
   "metadata": {},
   "outputs": [],
   "source": [
    "# Website 7\n",
    "r7 = requests.get('https://www.msn.com/vi-vn/news/other/đặt-tên-con-gái-sinh-năm-2018-là-gì-để-bé-cả-đời-bình-an-sung-túc/ar-AAuPLqj?li=BBiIAfv')\n",
    "html7 = r7.text\n",
    "soup7 = BeautifulSoup(html7)\n",
    "arr7 = soup7.find_all('strong')[2:-1]\n",
    "for link in arr7:\n",
    "    small_arr = link.text.strip()[2:-1].split()\n",
    "    for name in small_arr:\n",
    "        x = unidecode.unidecode(name)\n",
    "        if (x not in viet_names):\n",
    "            viet_names.append(x)"
   ]
  },
  {
   "cell_type": "code",
   "execution_count": 545,
   "metadata": {},
   "outputs": [
    {
     "name": "stdout",
     "output_type": "stream",
     "text": [
      "['Bian', 'Bich', 'Binh', 'Cam', 'Chau', 'Chi', 'Chinh', 'Cuc', 'Danh', 'Dinh', 'Duc', 'Due', 'Dung', 'Duong', 'Giang', 'Hang', 'Hanh', 'Hau', 'Hien', 'Hoa', 'Hue', 'Hung', 'Huong', 'Huy', 'Khan', 'Lanh', 'Linh', 'Long', 'Mai', 'Minh', 'Ngai', 'Ngoc', 'Nguyen', 'Nguyet', 'Nhung', 'Phuc', 'Phuong', 'Quan', 'Quang', 'Quy', 'Quyen', 'Sang', 'Sinh', 'Tam', 'Tan', 'Tham', 'Thanh', 'Thao', 'Thi', 'Thom', 'Thu', 'Thuan', 'Thuy', 'Tien', 'Trai', 'Trang', 'Truc', 'Tuan', 'Tuyen', 'Tuyet', 'Vien', 'Vinh', 'Xuan', 'Yen', 'Ahn', 'Bach Yen', 'Bao', 'Bay', 'Bien', 'Cadeo', 'Cais', 'Chung', 'Chuong', 'Diem', 'Diep', 'Dong', 'Duy', 'Duyen', 'Ha', 'Hao', 'Hieu', 'Hoai', 'Hoang', 'Hong', 'Hop', 'Huyen', 'Khoi', 'Khuong', 'Khuyen', 'Kieu', 'Lam', 'Lan', 'Lieu', 'Loc', 'Ly', 'Nam', 'Nhi', 'Nhu', 'Nu', 'Phong', 'Phuoc', 'Quynh', 'Sen', 'Teo', 'Thai', 'Than', 'Thuong', 'Thuyet', 'Thy', 'Tin', 'Toan', 'Tong', 'Trinh', 'Trung', 'Tu', 'Uyen', 'Viet', 'Vui', 'Bu', 'Buu', 'Canh', 'Dat', 'Dhin', 'Dinesha', 'Duoaud', 'Gya', 'Heiu', 'Ho', 'Huca', 'Lap', 'Nien', 'Suong', 'Thang', 'Thien', 'Tho', 'Thuc', 'Ti', 'Trieu', 'Twan', 'Anh', 'Van', 'Khanh', 'Kim', 'Ngan', 'Cuong', 'Han', 'Tung', 'Tra', 'My', 'Son', 'Tuong', 'Vy', 'Hai', 'Tram', 'Tran', 'Dieu', 'Hiep', 'Gia', 'Phung', 'Loan', 'Luan', 'Nhan', 'Oanh', 'An', 'Au', 'Ba', 'Bach', 'Bang', 'Banh', 'Bi', 'Bo', 'Bui', 'Cai', 'Can', 'Cao', 'Cap', 'Cat', 'Co', 'Cong', 'Cung', 'Chan', 'Chu', 'Chuc', 'Dao', 'Diec', 'Doan', 'Du', 'Dai', 'Dam', 'Dan', 'Don', 'Dang', 'Dau', 'Dich', 'Dien', 'Do', 'Gian', 'Giap', 'Hinh', 'Hoac', 'Hua', 'Ki', 'Kha', 'Khoan', 'Khong', 'Khu', 'Khuat', 'Khuc', 'Khua', 'Khuu', 'La', 'Lac', 'Lai', 'Lao', 'Lang', 'Le', 'Lien', 'Lo', 'Loi', 'Lu', 'Luc', 'Luong', 'Ma', 'Mac', 'Mach', 'Manh', 'Mao', 'Man', 'Moc', 'Muc', 'Ninh', 'Ngac', 'Ngo', 'Ngu', 'Nguy', 'Nguon', 'Nghe', 'Nghi', 'Nghiem', 'Nham', 'O', 'Ong', 'Pham', 'Phan', 'Pho', 'Phu', 'Quach', 'Sam', 'Si', 'So', 'Su', 'Ta', 'Tao', 'Tang', 'Tat', 'Tieu', 'To', 'Ton', 'Thieu', 'Thoi', 'Trac', 'Truong', 'Ung', 'Uong', 'Vu', 'Vuong', 'Vuu', 'Xa', 'A', 'Ai', 'Ao', 'Bac', 'Ban', 'Bat', 'Be', 'Bia', 'Boi', 'Bong', 'Ca', 'Cang', 'Chang', 'Cham', 'Che', 'Chim', 'Chiem', 'Chieu', 'Chuyen', 'Coc', 'Cu', 'Cuu', 'Da', 'Di', 'Dac', 'Deo', 'Doai', 'Doi', 'Gan', 'Giao', 'Giep', 'Gioan', 'Gioc', 'Guong', 'Ham', 'Hap', 'He', 'Hi', 'Hoan', 'Huynh', 'Hoi', 'Hui', 'Kan', 'Kem', 'Kham', 'Khau', 'Kheo', 'Khien', 'Khieu', 'Kien', 'Ky', 'Lau', 'Leu', 'Lich', 'Liem', 'Lieng', 'Liu', 'Luyen', 'Luu', 'Mang', 'Mat', 'Mau', 'Mi', 'Mien', 'Mui', 'Nan', 'Nga', 'Nghia', 'Nghien', 'Nguu', 'Nha', 'Nhat', 'Nhiep', 'Nong', 'Nung', 'On', 'Phi', 'Quac', 'Quoc', 'Quat', 'Roan', 'Sa', 'Sai', 'Suu', 'Tac', 'Tha', 'Thac', 'Thach', 'The', 'Them', 'Thiet', 'Thinh', 'Thong', 'Tich', 'Tiet', 'That', 'Tri', 'Trien', 'Trong', 'Tru', 'U', 'Uat', 'Vau', 'Ve', 'Vi', 'Viem', 'Vo', 'Vong', 'Yet', 'Khang', 'Khai', 'Chien', 'Khiem', 'Ken', 'Khoa', 'Huan', 'Kiet', 'Tai', 'Phat', 'Thuyen', 'Tony', 'Henry', 'Quyet', 'Rin', 'Andy', 'Ben', 'Huu', 'Steven', 'Thoai', 'Bin', 'Ivan', 'John', 'Triet', 'Vang', 'Tue', 'em', 'Thoa']\n"
     ]
    }
   ],
   "source": [
    "print(viet_names)"
   ]
  },
  {
   "cell_type": "code",
   "execution_count": 546,
   "metadata": {},
   "outputs": [
    {
     "data": {
      "text/plain": [
       "406"
      ]
     },
     "execution_count": 546,
     "metadata": {},
     "output_type": "execute_result"
    }
   ],
   "source": [
    "# Random names\n",
    "add(\"Que\")\n",
    "len(viet_names)"
   ]
  },
  {
   "cell_type": "code",
   "execution_count": 547,
   "metadata": {},
   "outputs": [],
   "source": [
    "##### Website 8\n",
    "r8 = requests.get('http://thuthuat.taimienphi.vn/1000-ten-cho-be-gai-hay-dep-26297n.aspx')\n",
    "html8 = r8.text\n",
    "soup8 = BeautifulSoup(html8)\n",
    "arr8 = soup8.find_all('p')[6:1230]\n",
    "for link in arr8:\n",
    "    if link.string == None or len(link.string) > 22 :\n",
    "        continue\n",
    "    small_arr = link.text.strip().split()\n",
    "    idx = 1\n",
    "    while idx < len(small_arr):\n",
    "        name = unidecode.unidecode(small_arr[idx])\n",
    "        if (name not in viet_names):\n",
    "            viet_names.append(name)\n",
    "        idx += 1"
   ]
  },
  {
   "cell_type": "code",
   "execution_count": 548,
   "metadata": {},
   "outputs": [
    {
     "name": "stdout",
     "output_type": "stream",
     "text": [
      "['Bian', 'Bich', 'Binh', 'Cam', 'Chau', 'Chi', 'Chinh', 'Cuc', 'Danh', 'Dinh', 'Duc', 'Due', 'Dung', 'Duong', 'Giang', 'Hang', 'Hanh', 'Hau', 'Hien', 'Hoa', 'Hue', 'Hung', 'Huong', 'Huy', 'Khan', 'Lanh', 'Linh', 'Long', 'Mai', 'Minh', 'Ngai', 'Ngoc', 'Nguyen', 'Nguyet', 'Nhung', 'Phuc', 'Phuong', 'Quan', 'Quang', 'Quy', 'Quyen', 'Sang', 'Sinh', 'Tam', 'Tan', 'Tham', 'Thanh', 'Thao', 'Thi', 'Thom', 'Thu', 'Thuan', 'Thuy', 'Tien', 'Trai', 'Trang', 'Truc', 'Tuan', 'Tuyen', 'Tuyet', 'Vien', 'Vinh', 'Xuan', 'Yen', 'Ahn', 'Bach Yen', 'Bao', 'Bay', 'Bien', 'Cadeo', 'Cais', 'Chung', 'Chuong', 'Diem', 'Diep', 'Dong', 'Duy', 'Duyen', 'Ha', 'Hao', 'Hieu', 'Hoai', 'Hoang', 'Hong', 'Hop', 'Huyen', 'Khoi', 'Khuong', 'Khuyen', 'Kieu', 'Lam', 'Lan', 'Lieu', 'Loc', 'Ly', 'Nam', 'Nhi', 'Nhu', 'Nu', 'Phong', 'Phuoc', 'Quynh', 'Sen', 'Teo', 'Thai', 'Than', 'Thuong', 'Thuyet', 'Thy', 'Tin', 'Toan', 'Tong', 'Trinh', 'Trung', 'Tu', 'Uyen', 'Viet', 'Vui', 'Bu', 'Buu', 'Canh', 'Dat', 'Dhin', 'Dinesha', 'Duoaud', 'Gya', 'Heiu', 'Ho', 'Huca', 'Lap', 'Nien', 'Suong', 'Thang', 'Thien', 'Tho', 'Thuc', 'Ti', 'Trieu', 'Twan', 'Anh', 'Van', 'Khanh', 'Kim', 'Ngan', 'Cuong', 'Han', 'Tung', 'Tra', 'My', 'Son', 'Tuong', 'Vy', 'Hai', 'Tram', 'Tran', 'Dieu', 'Hiep', 'Gia', 'Phung', 'Loan', 'Luan', 'Nhan', 'Oanh', 'An', 'Au', 'Ba', 'Bach', 'Bang', 'Banh', 'Bi', 'Bo', 'Bui', 'Cai', 'Can', 'Cao', 'Cap', 'Cat', 'Co', 'Cong', 'Cung', 'Chan', 'Chu', 'Chuc', 'Dao', 'Diec', 'Doan', 'Du', 'Dai', 'Dam', 'Dan', 'Don', 'Dang', 'Dau', 'Dich', 'Dien', 'Do', 'Gian', 'Giap', 'Hinh', 'Hoac', 'Hua', 'Ki', 'Kha', 'Khoan', 'Khong', 'Khu', 'Khuat', 'Khuc', 'Khua', 'Khuu', 'La', 'Lac', 'Lai', 'Lao', 'Lang', 'Le', 'Lien', 'Lo', 'Loi', 'Lu', 'Luc', 'Luong', 'Ma', 'Mac', 'Mach', 'Manh', 'Mao', 'Man', 'Moc', 'Muc', 'Ninh', 'Ngac', 'Ngo', 'Ngu', 'Nguy', 'Nguon', 'Nghe', 'Nghi', 'Nghiem', 'Nham', 'O', 'Ong', 'Pham', 'Phan', 'Pho', 'Phu', 'Quach', 'Sam', 'Si', 'So', 'Su', 'Ta', 'Tao', 'Tang', 'Tat', 'Tieu', 'To', 'Ton', 'Thieu', 'Thoi', 'Trac', 'Truong', 'Ung', 'Uong', 'Vu', 'Vuong', 'Vuu', 'Xa', 'A', 'Ai', 'Ao', 'Bac', 'Ban', 'Bat', 'Be', 'Bia', 'Boi', 'Bong', 'Ca', 'Cang', 'Chang', 'Cham', 'Che', 'Chim', 'Chiem', 'Chieu', 'Chuyen', 'Coc', 'Cu', 'Cuu', 'Da', 'Di', 'Dac', 'Deo', 'Doai', 'Doi', 'Gan', 'Giao', 'Giep', 'Gioan', 'Gioc', 'Guong', 'Ham', 'Hap', 'He', 'Hi', 'Hoan', 'Huynh', 'Hoi', 'Hui', 'Kan', 'Kem', 'Kham', 'Khau', 'Kheo', 'Khien', 'Khieu', 'Kien', 'Ky', 'Lau', 'Leu', 'Lich', 'Liem', 'Lieng', 'Liu', 'Luyen', 'Luu', 'Mang', 'Mat', 'Mau', 'Mi', 'Mien', 'Mui', 'Nan', 'Nga', 'Nghia', 'Nghien', 'Nguu', 'Nha', 'Nhat', 'Nhiep', 'Nong', 'Nung', 'On', 'Phi', 'Quac', 'Quoc', 'Quat', 'Roan', 'Sa', 'Sai', 'Suu', 'Tac', 'Tha', 'Thac', 'Thach', 'The', 'Them', 'Thiet', 'Thinh', 'Thong', 'Tich', 'Tiet', 'That', 'Tri', 'Trien', 'Trong', 'Tru', 'U', 'Uat', 'Vau', 'Ve', 'Vi', 'Viem', 'Vo', 'Vong', 'Yet', 'Khang', 'Khai', 'Chien', 'Khiem', 'Ken', 'Khoa', 'Huan', 'Kiet', 'Tai', 'Phat', 'Thuyen', 'Tony', 'Henry', 'Quyet', 'Rin', 'Andy', 'Ben', 'Huu', 'Steven', 'Thoai', 'Bin', 'Ivan', 'John', 'Triet', 'Vang', 'Tue', 'em', 'Thoa', 'Que', 'Nhien', 'San', 'Ty', 'Khue', 'Nuong', 'Hac', 'Y', 'Xuyen', 'Khe', 'Mong', 'Sao', 'Song', 'Ngon', 'Theu', 'Tinh', 'Tuy', 'Vanh']\n"
     ]
    }
   ],
   "source": [
    "print(viet_names)"
   ]
  },
  {
   "cell_type": "code",
   "execution_count": 549,
   "metadata": {},
   "outputs": [],
   "source": [
    "# Website 9\n",
    "r9 = requests.get('https://dichvuhay.vn/ten-dep-cho-be-trai-nam-2019.html')\n",
    "html9 = r9.text\n",
    "soup9 = BeautifulSoup(html9)\n",
    "arr9 = soup9.find_all('td')[1:]\n",
    "for link in arr9:\n",
    "    small_arr = link.text.split()\n",
    "    for x in small_arr:\n",
    "        name = unidecode.unidecode(x)\n",
    "        if (name not in viet_names):\n",
    "            viet_names.append(name)    "
   ]
  },
  {
   "cell_type": "code",
   "execution_count": 550,
   "metadata": {},
   "outputs": [
    {
     "name": "stdout",
     "output_type": "stream",
     "text": [
      "['Bian', 'Bich', 'Binh', 'Cam', 'Chau', 'Chi', 'Chinh', 'Cuc', 'Danh', 'Dinh', 'Duc', 'Due', 'Dung', 'Duong', 'Giang', 'Hang', 'Hanh', 'Hau', 'Hien', 'Hoa', 'Hue', 'Hung', 'Huong', 'Huy', 'Khan', 'Lanh', 'Linh', 'Long', 'Mai', 'Minh', 'Ngai', 'Ngoc', 'Nguyen', 'Nguyet', 'Nhung', 'Phuc', 'Phuong', 'Quan', 'Quang', 'Quy', 'Quyen', 'Sang', 'Sinh', 'Tam', 'Tan', 'Tham', 'Thanh', 'Thao', 'Thi', 'Thom', 'Thu', 'Thuan', 'Thuy', 'Tien', 'Trai', 'Trang', 'Truc', 'Tuan', 'Tuyen', 'Tuyet', 'Vien', 'Vinh', 'Xuan', 'Yen', 'Ahn', 'Bach Yen', 'Bao', 'Bay', 'Bien', 'Cadeo', 'Cais', 'Chung', 'Chuong', 'Diem', 'Diep', 'Dong', 'Duy', 'Duyen', 'Ha', 'Hao', 'Hieu', 'Hoai', 'Hoang', 'Hong', 'Hop', 'Huyen', 'Khoi', 'Khuong', 'Khuyen', 'Kieu', 'Lam', 'Lan', 'Lieu', 'Loc', 'Ly', 'Nam', 'Nhi', 'Nhu', 'Nu', 'Phong', 'Phuoc', 'Quynh', 'Sen', 'Teo', 'Thai', 'Than', 'Thuong', 'Thuyet', 'Thy', 'Tin', 'Toan', 'Tong', 'Trinh', 'Trung', 'Tu', 'Uyen', 'Viet', 'Vui', 'Bu', 'Buu', 'Canh', 'Dat', 'Dhin', 'Dinesha', 'Duoaud', 'Gya', 'Heiu', 'Ho', 'Huca', 'Lap', 'Nien', 'Suong', 'Thang', 'Thien', 'Tho', 'Thuc', 'Ti', 'Trieu', 'Twan', 'Anh', 'Van', 'Khanh', 'Kim', 'Ngan', 'Cuong', 'Han', 'Tung', 'Tra', 'My', 'Son', 'Tuong', 'Vy', 'Hai', 'Tram', 'Tran', 'Dieu', 'Hiep', 'Gia', 'Phung', 'Loan', 'Luan', 'Nhan', 'Oanh', 'An', 'Au', 'Ba', 'Bach', 'Bang', 'Banh', 'Bi', 'Bo', 'Bui', 'Cai', 'Can', 'Cao', 'Cap', 'Cat', 'Co', 'Cong', 'Cung', 'Chan', 'Chu', 'Chuc', 'Dao', 'Diec', 'Doan', 'Du', 'Dai', 'Dam', 'Dan', 'Don', 'Dang', 'Dau', 'Dich', 'Dien', 'Do', 'Gian', 'Giap', 'Hinh', 'Hoac', 'Hua', 'Ki', 'Kha', 'Khoan', 'Khong', 'Khu', 'Khuat', 'Khuc', 'Khua', 'Khuu', 'La', 'Lac', 'Lai', 'Lao', 'Lang', 'Le', 'Lien', 'Lo', 'Loi', 'Lu', 'Luc', 'Luong', 'Ma', 'Mac', 'Mach', 'Manh', 'Mao', 'Man', 'Moc', 'Muc', 'Ninh', 'Ngac', 'Ngo', 'Ngu', 'Nguy', 'Nguon', 'Nghe', 'Nghi', 'Nghiem', 'Nham', 'O', 'Ong', 'Pham', 'Phan', 'Pho', 'Phu', 'Quach', 'Sam', 'Si', 'So', 'Su', 'Ta', 'Tao', 'Tang', 'Tat', 'Tieu', 'To', 'Ton', 'Thieu', 'Thoi', 'Trac', 'Truong', 'Ung', 'Uong', 'Vu', 'Vuong', 'Vuu', 'Xa', 'A', 'Ai', 'Ao', 'Bac', 'Ban', 'Bat', 'Be', 'Bia', 'Boi', 'Bong', 'Ca', 'Cang', 'Chang', 'Cham', 'Che', 'Chim', 'Chiem', 'Chieu', 'Chuyen', 'Coc', 'Cu', 'Cuu', 'Da', 'Di', 'Dac', 'Deo', 'Doai', 'Doi', 'Gan', 'Giao', 'Giep', 'Gioan', 'Gioc', 'Guong', 'Ham', 'Hap', 'He', 'Hi', 'Hoan', 'Huynh', 'Hoi', 'Hui', 'Kan', 'Kem', 'Kham', 'Khau', 'Kheo', 'Khien', 'Khieu', 'Kien', 'Ky', 'Lau', 'Leu', 'Lich', 'Liem', 'Lieng', 'Liu', 'Luyen', 'Luu', 'Mang', 'Mat', 'Mau', 'Mi', 'Mien', 'Mui', 'Nan', 'Nga', 'Nghia', 'Nghien', 'Nguu', 'Nha', 'Nhat', 'Nhiep', 'Nong', 'Nung', 'On', 'Phi', 'Quac', 'Quoc', 'Quat', 'Roan', 'Sa', 'Sai', 'Suu', 'Tac', 'Tha', 'Thac', 'Thach', 'The', 'Them', 'Thiet', 'Thinh', 'Thong', 'Tich', 'Tiet', 'That', 'Tri', 'Trien', 'Trong', 'Tru', 'U', 'Uat', 'Vau', 'Ve', 'Vi', 'Viem', 'Vo', 'Vong', 'Yet', 'Khang', 'Khai', 'Chien', 'Khiem', 'Ken', 'Khoa', 'Huan', 'Kiet', 'Tai', 'Phat', 'Thuyen', 'Tony', 'Henry', 'Quyet', 'Rin', 'Andy', 'Ben', 'Huu', 'Steven', 'Thoai', 'Bin', 'Ivan', 'John', 'Triet', 'Vang', 'Tue', 'em', 'Thoa', 'Que', 'Nhien', 'San', 'Ty', 'Khue', 'Nuong', 'Hac', 'Y', 'Xuyen', 'Khe', 'Mong', 'Sao', 'Song', 'Ngon', 'Theu', 'Tinh', 'Tuy', 'Vanh', 'Phap', 'Toai', 'Nghiep', 'Sy', 'Uy', 'Chanh', 'Chuan', 'Luat', 'Sieu', 'Kinh', 'Nhuong', 'Tiep', 'Hoc', 'Kiem', 'Nhuan', 'Khoat', 'Khac', 'Hy', 'Giac', 'Niem', 'Trach', 'De', 'Doanh', 'Duyet', 'Nang', 'Nhiem', 'Liet', 'Thuat', 'Hoat']\n"
     ]
    }
   ],
   "source": [
    "print(viet_names)"
   ]
  },
  {
   "cell_type": "code",
   "execution_count": 551,
   "metadata": {},
   "outputs": [
    {
     "data": {
      "text/plain": [
       "452"
      ]
     },
     "execution_count": 551,
     "metadata": {},
     "output_type": "execute_result"
    }
   ],
   "source": [
    "len(viet_names)"
   ]
  },
  {
   "cell_type": "code",
   "execution_count": 552,
   "metadata": {},
   "outputs": [],
   "source": [
    "f = open('viet_names.txt', 'w+')\n",
    "for name in viet_names:\n",
    "    f.write(name + \"\\n\")\n",
    "f.close()"
   ]
  },
  {
   "cell_type": "code",
   "execution_count": null,
   "metadata": {},
   "outputs": [],
   "source": []
  }
 ],
 "metadata": {
  "kernelspec": {
   "display_name": "Python 3",
   "language": "python",
   "name": "python3"
  },
  "language_info": {
   "codemirror_mode": {
    "name": "ipython",
    "version": 3
   },
   "file_extension": ".py",
   "mimetype": "text/x-python",
   "name": "python",
   "nbconvert_exporter": "python",
   "pygments_lexer": "ipython3",
   "version": "3.6.2"
  }
 },
 "nbformat": 4,
 "nbformat_minor": 2
}
